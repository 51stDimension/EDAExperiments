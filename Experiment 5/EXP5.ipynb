{
  "nbformat": 4,
  "nbformat_minor": 0,
  "metadata": {
    "colab": {
      "provenance": [],
      "authorship_tag": "ABX9TyMrGfim/AO3wQCKcIYoRQZo",
      "include_colab_link": true
    },
    "kernelspec": {
      "name": "python3",
      "display_name": "Python 3"
    },
    "language_info": {
      "name": "python"
    }
  },
  "cells": [
    {
      "cell_type": "markdown",
      "metadata": {
        "id": "view-in-github",
        "colab_type": "text"
      },
      "source": [
        "<a href=\"https://colab.research.google.com/github/51stDimension/EDAExperiments/blob/main/Experiment%205/EXP5.ipynb\" target=\"_parent\"><img src=\"https://colab.research.google.com/assets/colab-badge.svg\" alt=\"Open In Colab\"/></a>"
      ]
    },
    {
      "cell_type": "code",
      "execution_count": 1,
      "metadata": {
        "id": "I3bYJVyI1H49"
      },
      "outputs": [],
      "source": [
        "import numpy as np\n",
        "import pandas as pd\n",
        "from matplotlib import pyplot as plt\n",
        "import seaborn as sns \n",
        "import missingno "
      ]
    },
    {
      "cell_type": "markdown",
      "source": [
        "# **Problem 1: Loading the Dataset**"
      ],
      "metadata": {
        "id": "3K2BjMav1hix"
      }
    },
    {
      "cell_type": "code",
      "source": [
        "email = pd.read_csv('https://raw.githubusercontent.com/51stDimension/EDAExperiments/main/Experiment%205/emails.csv')"
      ],
      "metadata": {
        "id": "wqBYEEea1PLY"
      },
      "execution_count": 2,
      "outputs": []
    },
    {
      "cell_type": "code",
      "source": [
        "email.head()"
      ],
      "metadata": {
        "colab": {
          "base_uri": "https://localhost:8080/",
          "height": 206
        },
        "id": "-9siGNyg1XdD",
        "outputId": "fb6195d2-b850-482e-9662-a214ef4e093a"
      },
      "execution_count": 3,
      "outputs": [
        {
          "output_type": "execute_result",
          "data": {
            "text/plain": [
              "                                                text  spam\n",
              "0  Subject: naturally irresistible your corporate...     1\n",
              "1  Subject: the stock trading gunslinger  fanny i...     1\n",
              "2  Subject: unbelievable new homes made easy  im ...     1\n",
              "3  Subject: 4 color printing special  request add...     1\n",
              "4  Subject: do not have money , get software cds ...     1"
            ],
            "text/html": [
              "\n",
              "  <div id=\"df-28b0024a-08a0-4fec-8174-f03ae8abf453\">\n",
              "    <div class=\"colab-df-container\">\n",
              "      <div>\n",
              "<style scoped>\n",
              "    .dataframe tbody tr th:only-of-type {\n",
              "        vertical-align: middle;\n",
              "    }\n",
              "\n",
              "    .dataframe tbody tr th {\n",
              "        vertical-align: top;\n",
              "    }\n",
              "\n",
              "    .dataframe thead th {\n",
              "        text-align: right;\n",
              "    }\n",
              "</style>\n",
              "<table border=\"1\" class=\"dataframe\">\n",
              "  <thead>\n",
              "    <tr style=\"text-align: right;\">\n",
              "      <th></th>\n",
              "      <th>text</th>\n",
              "      <th>spam</th>\n",
              "    </tr>\n",
              "  </thead>\n",
              "  <tbody>\n",
              "    <tr>\n",
              "      <th>0</th>\n",
              "      <td>Subject: naturally irresistible your corporate...</td>\n",
              "      <td>1</td>\n",
              "    </tr>\n",
              "    <tr>\n",
              "      <th>1</th>\n",
              "      <td>Subject: the stock trading gunslinger  fanny i...</td>\n",
              "      <td>1</td>\n",
              "    </tr>\n",
              "    <tr>\n",
              "      <th>2</th>\n",
              "      <td>Subject: unbelievable new homes made easy  im ...</td>\n",
              "      <td>1</td>\n",
              "    </tr>\n",
              "    <tr>\n",
              "      <th>3</th>\n",
              "      <td>Subject: 4 color printing special  request add...</td>\n",
              "      <td>1</td>\n",
              "    </tr>\n",
              "    <tr>\n",
              "      <th>4</th>\n",
              "      <td>Subject: do not have money , get software cds ...</td>\n",
              "      <td>1</td>\n",
              "    </tr>\n",
              "  </tbody>\n",
              "</table>\n",
              "</div>\n",
              "      <button class=\"colab-df-convert\" onclick=\"convertToInteractive('df-28b0024a-08a0-4fec-8174-f03ae8abf453')\"\n",
              "              title=\"Convert this dataframe to an interactive table.\"\n",
              "              style=\"display:none;\">\n",
              "        \n",
              "  <svg xmlns=\"http://www.w3.org/2000/svg\" height=\"24px\"viewBox=\"0 0 24 24\"\n",
              "       width=\"24px\">\n",
              "    <path d=\"M0 0h24v24H0V0z\" fill=\"none\"/>\n",
              "    <path d=\"M18.56 5.44l.94 2.06.94-2.06 2.06-.94-2.06-.94-.94-2.06-.94 2.06-2.06.94zm-11 1L8.5 8.5l.94-2.06 2.06-.94-2.06-.94L8.5 2.5l-.94 2.06-2.06.94zm10 10l.94 2.06.94-2.06 2.06-.94-2.06-.94-.94-2.06-.94 2.06-2.06.94z\"/><path d=\"M17.41 7.96l-1.37-1.37c-.4-.4-.92-.59-1.43-.59-.52 0-1.04.2-1.43.59L10.3 9.45l-7.72 7.72c-.78.78-.78 2.05 0 2.83L4 21.41c.39.39.9.59 1.41.59.51 0 1.02-.2 1.41-.59l7.78-7.78 2.81-2.81c.8-.78.8-2.07 0-2.86zM5.41 20L4 18.59l7.72-7.72 1.47 1.35L5.41 20z\"/>\n",
              "  </svg>\n",
              "      </button>\n",
              "      \n",
              "  <style>\n",
              "    .colab-df-container {\n",
              "      display:flex;\n",
              "      flex-wrap:wrap;\n",
              "      gap: 12px;\n",
              "    }\n",
              "\n",
              "    .colab-df-convert {\n",
              "      background-color: #E8F0FE;\n",
              "      border: none;\n",
              "      border-radius: 50%;\n",
              "      cursor: pointer;\n",
              "      display: none;\n",
              "      fill: #1967D2;\n",
              "      height: 32px;\n",
              "      padding: 0 0 0 0;\n",
              "      width: 32px;\n",
              "    }\n",
              "\n",
              "    .colab-df-convert:hover {\n",
              "      background-color: #E2EBFA;\n",
              "      box-shadow: 0px 1px 2px rgba(60, 64, 67, 0.3), 0px 1px 3px 1px rgba(60, 64, 67, 0.15);\n",
              "      fill: #174EA6;\n",
              "    }\n",
              "\n",
              "    [theme=dark] .colab-df-convert {\n",
              "      background-color: #3B4455;\n",
              "      fill: #D2E3FC;\n",
              "    }\n",
              "\n",
              "    [theme=dark] .colab-df-convert:hover {\n",
              "      background-color: #434B5C;\n",
              "      box-shadow: 0px 1px 3px 1px rgba(0, 0, 0, 0.15);\n",
              "      filter: drop-shadow(0px 1px 2px rgba(0, 0, 0, 0.3));\n",
              "      fill: #FFFFFF;\n",
              "    }\n",
              "  </style>\n",
              "\n",
              "      <script>\n",
              "        const buttonEl =\n",
              "          document.querySelector('#df-28b0024a-08a0-4fec-8174-f03ae8abf453 button.colab-df-convert');\n",
              "        buttonEl.style.display =\n",
              "          google.colab.kernel.accessAllowed ? 'block' : 'none';\n",
              "\n",
              "        async function convertToInteractive(key) {\n",
              "          const element = document.querySelector('#df-28b0024a-08a0-4fec-8174-f03ae8abf453');\n",
              "          const dataTable =\n",
              "            await google.colab.kernel.invokeFunction('convertToInteractive',\n",
              "                                                     [key], {});\n",
              "          if (!dataTable) return;\n",
              "\n",
              "          const docLinkHtml = 'Like what you see? Visit the ' +\n",
              "            '<a target=\"_blank\" href=https://colab.research.google.com/notebooks/data_table.ipynb>data table notebook</a>'\n",
              "            + ' to learn more about interactive tables.';\n",
              "          element.innerHTML = '';\n",
              "          dataTable['output_type'] = 'display_data';\n",
              "          await google.colab.output.renderOutput(dataTable, element);\n",
              "          const docLink = document.createElement('div');\n",
              "          docLink.innerHTML = docLinkHtml;\n",
              "          element.appendChild(docLink);\n",
              "        }\n",
              "      </script>\n",
              "    </div>\n",
              "  </div>\n",
              "  "
            ]
          },
          "metadata": {},
          "execution_count": 3
        }
      ]
    },
    {
      "cell_type": "markdown",
      "source": [
        "Q1 : How many emails are in the dataset?"
      ],
      "metadata": {
        "id": "knpqwjJ-1nu7"
      }
    },
    {
      "cell_type": "code",
      "source": [
        "len(email)"
      ],
      "metadata": {
        "colab": {
          "base_uri": "https://localhost:8080/"
        },
        "id": "aL-Udyf41r4w",
        "outputId": "d4c68388-d844-42af-cbc3-abb972a03486"
      },
      "execution_count": 4,
      "outputs": [
        {
          "output_type": "execute_result",
          "data": {
            "text/plain": [
              "5728"
            ]
          },
          "metadata": {},
          "execution_count": 4
        }
      ]
    },
    {
      "cell_type": "markdown",
      "source": [
        "Q2 : How many spam emails are in the dataset?"
      ],
      "metadata": {
        "id": "4-6itiAE16k6"
      }
    },
    {
      "cell_type": "code",
      "source": [
        "len(email[email.spam == 1])"
      ],
      "metadata": {
        "colab": {
          "base_uri": "https://localhost:8080/"
        },
        "id": "w-jIvR8c2AMb",
        "outputId": "02b7de51-d429-4f19-a50f-88f3edafa8f3"
      },
      "execution_count": 5,
      "outputs": [
        {
          "output_type": "execute_result",
          "data": {
            "text/plain": [
              "1368"
            ]
          },
          "metadata": {},
          "execution_count": 5
        }
      ]
    },
    {
      "cell_type": "code",
      "source": [
        "# To check for missing values\n",
        "missingno.bar(email)"
      ],
      "metadata": {
        "colab": {
          "base_uri": "https://localhost:8080/",
          "height": 655
        },
        "id": "FuoFTjwB2CZL",
        "outputId": "c798976f-2c1e-4cc0-c46a-1c698aa982ca"
      },
      "execution_count": 6,
      "outputs": [
        {
          "output_type": "execute_result",
          "data": {
            "text/plain": [
              "<matplotlib.axes._subplots.AxesSubplot at 0x7f8df8ac78d0>"
            ]
          },
          "metadata": {},
          "execution_count": 6
        },
        {
          "output_type": "display_data",
          "data": {
            "text/plain": [
              "<Figure size 1800x720 with 3 Axes>"
            ],
            "image/png": "[encoded data removed]"
          },
          "metadata": {
            "needs_background": "light"
          }
        }
      ]
    },
    {
      "cell_type": "markdown",
      "source": [
        "Above plot's conclusion: We have no missing values."
      ],
      "metadata": {
        "id": "d4YdxIhR2PYH"
      }
    },
    {
      "cell_type": "code",
      "source": [
        "# Removing repeated values\n",
        "email = email.drop_duplicates()\n",
        "print('Changes in the dataset after removing duplicates: ')\n",
        "print(f'Length of Dataset {len(email)}')\n",
        "print(f'No of Spam Messages {len(email[email.spam == 1])}')"
      ],
      "metadata": {
        "colab": {
          "base_uri": "https://localhost:8080/"
        },
        "id": "mN2gl1Bj2TGK",
        "outputId": "870cc59a-2036-4749-fba1-9dd60654c272"
      },
      "execution_count": 8,
      "outputs": [
        {
          "output_type": "stream",
          "name": "stdout",
          "text": [
            "Changes in the dataset after removing duplicates: \n",
            "Length of Dataset 5695\n",
            "No of Spam Messages 1368\n"
          ]
        }
      ]
    },
    {
      "cell_type": "markdown",
      "source": [
        "Data Cleaning"
      ],
      "metadata": {
        "id": "P8GnG1xf27el"
      }
    },
    {
      "cell_type": "markdown",
      "source": [
        "1) Removing punctuation marks from the dataset"
      ],
      "metadata": {
        "id": "msxB59S73Ap9"
      }
    },
    {
      "cell_type": "code",
      "source": [
        "import string\n",
        "punctuations = list(string.punctuation)\n",
        "# Printing the list of punctuation marks present\n",
        "print(punctuations)"
      ],
      "metadata": {
        "colab": {
          "base_uri": "https://localhost:8080/"
        },
        "id": "3VYv-v_23Ddc",
        "outputId": "f7d2696c-71c0-495a-c4cc-bd3d732ed0bd"
      },
      "execution_count": 10,
      "outputs": [
        {
          "output_type": "stream",
          "name": "stdout",
          "text": [
            "['!', '\"', '#', '$', '%', '&', \"'\", '(', ')', '*', '+', ',', '-', '.', '/', ':', ';', '<', '=', '>', '?', '@', '[', '\\\\', ']', '^', '_', '`', '{', '|', '}', '~']\n"
          ]
        }
      ]
    },
    {
      "cell_type": "markdown",
      "source": [
        "We will be using NLTK RegexTokenzier to select alphanumeric words and removing \n",
        "\n",
        "the punctuation marks "
      ],
      "metadata": {
        "id": "MwGYLlW43RdN"
      }
    },
    {
      "cell_type": "code",
      "source": [
        "from nltk.tokenize import RegexpTokenizer\n",
        "tokenizer = RegexpTokenizer(r'\\w+')"
      ],
      "metadata": {
        "id": "dBY3RxW63XQX"
      },
      "execution_count": 14,
      "outputs": []
    },
    {
      "cell_type": "code",
      "source": [
        "def remove_punctuations(input_sentence):\n",
        "    sentence_words_list_without_punctuations = tokenizer.tokenize(input_sentence)\n",
        "    processed_string = ' '.join(sentence_words_list_without_punctuations)\n",
        "    return processed_string"
      ],
      "metadata": {
        "id": "TZe8WFGt3ZUc"
      },
      "execution_count": 15,
      "outputs": []
    },
    {
      "cell_type": "code",
      "source": [
        "email['text'] = email['text'].apply(remove_punctuations)\n",
        "email.head()"
      ],
      "metadata": {
        "colab": {
          "base_uri": "https://localhost:8080/",
          "height": 206
        },
        "id": "_3_V76s43cnD",
        "outputId": "7da94563-199d-4dfd-eed1-afe8e32ea8af"
      },
      "execution_count": 16,
      "outputs": [
        {
          "output_type": "execute_result",
          "data": {
            "text/plain": [
              "                                                text  spam\n",
              "0  Subject naturally irresistible your corporate ...     1\n",
              "1  Subject the stock trading gunslinger fanny is ...     1\n",
              "2  Subject unbelievable new homes made easy im wa...     1\n",
              "3  Subject 4 color printing special request addit...     1\n",
              "4  Subject do not have money get software cds fro...     1"
            ],
            "text/html": [
              "\n",
              "  <div id=\"df-56a5f4ef-7600-494e-a2f8-4242e9c9f407\">\n",
              "    <div class=\"colab-df-container\">\n",
              "      <div>\n",
              "<style scoped>\n",
              "    .dataframe tbody tr th:only-of-type {\n",
              "        vertical-align: middle;\n",
              "    }\n",
              "\n",
              "    .dataframe tbody tr th {\n",
              "        vertical-align: top;\n",
              "    }\n",
              "\n",
              "    .dataframe thead th {\n",
              "        text-align: right;\n",
              "    }\n",
              "</style>\n",
              "<table border=\"1\" class=\"dataframe\">\n",
              "  <thead>\n",
              "    <tr style=\"text-align: right;\">\n",
              "      <th></th>\n",
              "      <th>text</th>\n",
              "      <th>spam</th>\n",
              "    </tr>\n",
              "  </thead>\n",
              "  <tbody>\n",
              "    <tr>\n",
              "      <th>0</th>\n",
              "      <td>Subject naturally irresistible your corporate ...</td>\n",
              "      <td>1</td>\n",
              "    </tr>\n",
              "    <tr>\n",
              "      <th>1</th>\n",
              "      <td>Subject the stock trading gunslinger fanny is ...</td>\n",
              "      <td>1</td>\n",
              "    </tr>\n",
              "    <tr>\n",
              "      <th>2</th>\n",
              "      <td>Subject unbelievable new homes made easy im wa...</td>\n",
              "      <td>1</td>\n",
              "    </tr>\n",
              "    <tr>\n",
              "      <th>3</th>\n",
              "      <td>Subject 4 color printing special request addit...</td>\n",
              "      <td>1</td>\n",
              "    </tr>\n",
              "    <tr>\n",
              "      <th>4</th>\n",
              "      <td>Subject do not have money get software cds fro...</td>\n",
              "      <td>1</td>\n",
              "    </tr>\n",
              "  </tbody>\n",
              "</table>\n",
              "</div>\n",
              "      <button class=\"colab-df-convert\" onclick=\"convertToInteractive('df-56a5f4ef-7600-494e-a2f8-4242e9c9f407')\"\n",
              "              title=\"Convert this dataframe to an interactive table.\"\n",
              "              style=\"display:none;\">\n",
              "        \n",
              "  <svg xmlns=\"http://www.w3.org/2000/svg\" height=\"24px\"viewBox=\"0 0 24 24\"\n",
              "       width=\"24px\">\n",
              "    <path d=\"M0 0h24v24H0V0z\" fill=\"none\"/>\n",
              "    <path d=\"M18.56 5.44l.94 2.06.94-2.06 2.06-.94-2.06-.94-.94-2.06-.94 2.06-2.06.94zm-11 1L8.5 8.5l.94-2.06 2.06-.94-2.06-.94L8.5 2.5l-.94 2.06-2.06.94zm10 10l.94 2.06.94-2.06 2.06-.94-2.06-.94-.94-2.06-.94 2.06-2.06.94z\"/><path d=\"M17.41 7.96l-1.37-1.37c-.4-.4-.92-.59-1.43-.59-.52 0-1.04.2-1.43.59L10.3 9.45l-7.72 7.72c-.78.78-.78 2.05 0 2.83L4 21.41c.39.39.9.59 1.41.59.51 0 1.02-.2 1.41-.59l7.78-7.78 2.81-2.81c.8-.78.8-2.07 0-2.86zM5.41 20L4 18.59l7.72-7.72 1.47 1.35L5.41 20z\"/>\n",
              "  </svg>\n",
              "      </button>\n",
              "      \n",
              "  <style>\n",
              "    .colab-df-container {\n",
              "      display:flex;\n",
              "      flex-wrap:wrap;\n",
              "      gap: 12px;\n",
              "    }\n",
              "\n",
              "    .colab-df-convert {\n",
              "      background-color: #E8F0FE;\n",
              "      border: none;\n",
              "      border-radius: 50%;\n",
              "      cursor: pointer;\n",
              "      display: none;\n",
              "      fill: #1967D2;\n",
              "      height: 32px;\n",
              "      padding: 0 0 0 0;\n",
              "      width: 32px;\n",
              "    }\n",
              "\n",
              "    .colab-df-convert:hover {\n",
              "      background-color: #E2EBFA;\n",
              "      box-shadow: 0px 1px 2px rgba(60, 64, 67, 0.3), 0px 1px 3px 1px rgba(60, 64, 67, 0.15);\n",
              "      fill: #174EA6;\n",
              "    }\n",
              "\n",
              "    [theme=dark] .colab-df-convert {\n",
              "      background-color: #3B4455;\n",
              "      fill: #D2E3FC;\n",
              "    }\n",
              "\n",
              "    [theme=dark] .colab-df-convert:hover {\n",
              "      background-color: #434B5C;\n",
              "      box-shadow: 0px 1px 3px 1px rgba(0, 0, 0, 0.15);\n",
              "      filter: drop-shadow(0px 1px 2px rgba(0, 0, 0, 0.3));\n",
              "      fill: #FFFFFF;\n",
              "    }\n",
              "  </style>\n",
              "\n",
              "      <script>\n",
              "        const buttonEl =\n",
              "          document.querySelector('#df-56a5f4ef-7600-494e-a2f8-4242e9c9f407 button.colab-df-convert');\n",
              "        buttonEl.style.display =\n",
              "          google.colab.kernel.accessAllowed ? 'block' : 'none';\n",
              "\n",
              "        async function convertToInteractive(key) {\n",
              "          const element = document.querySelector('#df-56a5f4ef-7600-494e-a2f8-4242e9c9f407');\n",
              "          const dataTable =\n",
              "            await google.colab.kernel.invokeFunction('convertToInteractive',\n",
              "                                                     [key], {});\n",
              "          if (!dataTable) return;\n",
              "\n",
              "          const docLinkHtml = 'Like what you see? Visit the ' +\n",
              "            '<a target=\"_blank\" href=https://colab.research.google.com/notebooks/data_table.ipynb>data table notebook</a>'\n",
              "            + ' to learn more about interactive tables.';\n",
              "          element.innerHTML = '';\n",
              "          dataTable['output_type'] = 'display_data';\n",
              "          await google.colab.output.renderOutput(dataTable, element);\n",
              "          const docLink = document.createElement('div');\n",
              "          docLink.innerHTML = docLinkHtml;\n",
              "          element.appendChild(docLink);\n",
              "        }\n",
              "      </script>\n",
              "    </div>\n",
              "  </div>\n",
              "  "
            ]
          },
          "metadata": {},
          "execution_count": 16
        }
      ]
    },
    {
      "cell_type": "code",
      "source": [
        "email['text'].apply(lambda x: x.split(' ')[0].lower()).unique()"
      ],
      "metadata": {
        "colab": {
          "base_uri": "https://localhost:8080/"
        },
        "id": "Tx75TPMT3fvb",
        "outputId": "ef8cfef5-8893-4c9d-e18b-2d77a43d7135"
      },
      "execution_count": 31,
      "outputs": [
        {
          "output_type": "execute_result",
          "data": {
            "text/plain": [
              "array(['subject'], dtype=object)"
            ]
          },
          "metadata": {},
          "execution_count": 31
        }
      ]
    },
    {
      "cell_type": "code",
      "source": [
        "email.head()"
      ],
      "metadata": {
        "colab": {
          "base_uri": "https://localhost:8080/",
          "height": 206
        },
        "id": "uGZfw9Bl3u41",
        "outputId": "caf6e42b-3a97-4804-d7d7-3a33210bd416"
      },
      "execution_count": 18,
      "outputs": [
        {
          "output_type": "execute_result",
          "data": {
            "text/plain": [
              "                                                text  spam\n",
              "0  Subject naturally irresistible your corporate ...     1\n",
              "1  Subject the stock trading gunslinger fanny is ...     1\n",
              "2  Subject unbelievable new homes made easy im wa...     1\n",
              "3  Subject 4 color printing special request addit...     1\n",
              "4  Subject do not have money get software cds fro...     1"
            ],
            "text/html": [
              "\n",
              "  <div id=\"df-6548e749-0181-4727-ac80-af2d9fe813a1\">\n",
              "    <div class=\"colab-df-container\">\n",
              "      <div>\n",
              "<style scoped>\n",
              "    .dataframe tbody tr th:only-of-type {\n",
              "        vertical-align: middle;\n",
              "    }\n",
              "\n",
              "    .dataframe tbody tr th {\n",
              "        vertical-align: top;\n",
              "    }\n",
              "\n",
              "    .dataframe thead th {\n",
              "        text-align: right;\n",
              "    }\n",
              "</style>\n",
              "<table border=\"1\" class=\"dataframe\">\n",
              "  <thead>\n",
              "    <tr style=\"text-align: right;\">\n",
              "      <th></th>\n",
              "      <th>text</th>\n",
              "      <th>spam</th>\n",
              "    </tr>\n",
              "  </thead>\n",
              "  <tbody>\n",
              "    <tr>\n",
              "      <th>0</th>\n",
              "      <td>Subject naturally irresistible your corporate ...</td>\n",
              "      <td>1</td>\n",
              "    </tr>\n",
              "    <tr>\n",
              "      <th>1</th>\n",
              "      <td>Subject the stock trading gunslinger fanny is ...</td>\n",
              "      <td>1</td>\n",
              "    </tr>\n",
              "    <tr>\n",
              "      <th>2</th>\n",
              "      <td>Subject unbelievable new homes made easy im wa...</td>\n",
              "      <td>1</td>\n",
              "    </tr>\n",
              "    <tr>\n",
              "      <th>3</th>\n",
              "      <td>Subject 4 color printing special request addit...</td>\n",
              "      <td>1</td>\n",
              "    </tr>\n",
              "    <tr>\n",
              "      <th>4</th>\n",
              "      <td>Subject do not have money get software cds fro...</td>\n",
              "      <td>1</td>\n",
              "    </tr>\n",
              "  </tbody>\n",
              "</table>\n",
              "</div>\n",
              "      <button class=\"colab-df-convert\" onclick=\"convertToInteractive('df-6548e749-0181-4727-ac80-af2d9fe813a1')\"\n",
              "              title=\"Convert this dataframe to an interactive table.\"\n",
              "              style=\"display:none;\">\n",
              "        \n",
              "  <svg xmlns=\"http://www.w3.org/2000/svg\" height=\"24px\"viewBox=\"0 0 24 24\"\n",
              "       width=\"24px\">\n",
              "    <path d=\"M0 0h24v24H0V0z\" fill=\"none\"/>\n",
              "    <path d=\"M18.56 5.44l.94 2.06.94-2.06 2.06-.94-2.06-.94-.94-2.06-.94 2.06-2.06.94zm-11 1L8.5 8.5l.94-2.06 2.06-.94-2.06-.94L8.5 2.5l-.94 2.06-2.06.94zm10 10l.94 2.06.94-2.06 2.06-.94-2.06-.94-.94-2.06-.94 2.06-2.06.94z\"/><path d=\"M17.41 7.96l-1.37-1.37c-.4-.4-.92-.59-1.43-.59-.52 0-1.04.2-1.43.59L10.3 9.45l-7.72 7.72c-.78.78-.78 2.05 0 2.83L4 21.41c.39.39.9.59 1.41.59.51 0 1.02-.2 1.41-.59l7.78-7.78 2.81-2.81c.8-.78.8-2.07 0-2.86zM5.41 20L4 18.59l7.72-7.72 1.47 1.35L5.41 20z\"/>\n",
              "  </svg>\n",
              "      </button>\n",
              "      \n",
              "  <style>\n",
              "    .colab-df-container {\n",
              "      display:flex;\n",
              "      flex-wrap:wrap;\n",
              "      gap: 12px;\n",
              "    }\n",
              "\n",
              "    .colab-df-convert {\n",
              "      background-color: #E8F0FE;\n",
              "      border: none;\n",
              "      border-radius: 50%;\n",
              "      cursor: pointer;\n",
              "      display: none;\n",
              "      fill: #1967D2;\n",
              "      height: 32px;\n",
              "      padding: 0 0 0 0;\n",
              "      width: 32px;\n",
              "    }\n",
              "\n",
              "    .colab-df-convert:hover {\n",
              "      background-color: #E2EBFA;\n",
              "      box-shadow: 0px 1px 2px rgba(60, 64, 67, 0.3), 0px 1px 3px 1px rgba(60, 64, 67, 0.15);\n",
              "      fill: #174EA6;\n",
              "    }\n",
              "\n",
              "    [theme=dark] .colab-df-convert {\n",
              "      background-color: #3B4455;\n",
              "      fill: #D2E3FC;\n",
              "    }\n",
              "\n",
              "    [theme=dark] .colab-df-convert:hover {\n",
              "      background-color: #434B5C;\n",
              "      box-shadow: 0px 1px 3px 1px rgba(0, 0, 0, 0.15);\n",
              "      filter: drop-shadow(0px 1px 2px rgba(0, 0, 0, 0.3));\n",
              "      fill: #FFFFFF;\n",
              "    }\n",
              "  </style>\n",
              "\n",
              "      <script>\n",
              "        const buttonEl =\n",
              "          document.querySelector('#df-6548e749-0181-4727-ac80-af2d9fe813a1 button.colab-df-convert');\n",
              "        buttonEl.style.display =\n",
              "          google.colab.kernel.accessAllowed ? 'block' : 'none';\n",
              "\n",
              "        async function convertToInteractive(key) {\n",
              "          const element = document.querySelector('#df-6548e749-0181-4727-ac80-af2d9fe813a1');\n",
              "          const dataTable =\n",
              "            await google.colab.kernel.invokeFunction('convertToInteractive',\n",
              "                                                     [key], {});\n",
              "          if (!dataTable) return;\n",
              "\n",
              "          const docLinkHtml = 'Like what you see? Visit the ' +\n",
              "            '<a target=\"_blank\" href=https://colab.research.google.com/notebooks/data_table.ipynb>data table notebook</a>'\n",
              "            + ' to learn more about interactive tables.';\n",
              "          element.innerHTML = '';\n",
              "          dataTable['output_type'] = 'display_data';\n",
              "          await google.colab.output.renderOutput(dataTable, element);\n",
              "          const docLink = document.createElement('div');\n",
              "          docLink.innerHTML = docLinkHtml;\n",
              "          element.appendChild(docLink);\n",
              "        }\n",
              "      </script>\n",
              "    </div>\n",
              "  </div>\n",
              "  "
            ]
          },
          "metadata": {},
          "execution_count": 18
        }
      ]
    },
    {
      "cell_type": "markdown",
      "source": [
        "Q: **Could a spam classifier potentially benefit from including the frequency of the word that appears in every email?**\n",
        "Yes -- the number of times the word appears might help us differentiate spam from ham.\n",
        "No -- the word appears in every email so this variable would not help us differentiate spam from ham."
      ],
      "metadata": {
        "id": "lfc2bjEp3-Iq"
      }
    },
    {
      "cell_type": "markdown",
      "source": [
        "Depends on the situation. Some common words appear in both ham and spam and would not help much in differentiating but some words which are specific to their type i.e spam or ham will help us a lot in differentiating spam and ham and counting their frequency will help us a lot."
      ],
      "metadata": {
        "id": "RuIPukHq4BWK"
      }
    },
    {
      "cell_type": "markdown",
      "source": [
        "Q: **The nchar() function counts the number of characters in a piece of text. How many characters are in the longest email in the dataset (where longest is measured in terms of the maximum number of characters)?**"
      ],
      "metadata": {
        "id": "evy2ILQv5MKc"
      }
    },
    {
      "cell_type": "code",
      "source": [
        "sns.countplot(email['spam'])"
      ],
      "metadata": {
        "colab": {
          "base_uri": "https://localhost:8080/",
          "height": 351
        },
        "id": "EIP6dxbB3vwq",
        "outputId": "a7121382-f532-4c5c-93f6-734127c8f0db"
      },
      "execution_count": 19,
      "outputs": [
        {
          "output_type": "stream",
          "name": "stderr",
          "text": [
            "/usr/local/lib/python3.7/dist-packages/seaborn/_decorators.py:43: FutureWarning: Pass the following variable as a keyword arg: x. From version 0.12, the only valid positional argument will be `data`, and passing other arguments without an explicit keyword will result in an error or misinterpretation.\n",
            "  FutureWarning\n"
          ]
        },
        {
          "output_type": "execute_result",
          "data": {
            "text/plain": [
              "<matplotlib.axes._subplots.AxesSubplot at 0x7f8df11fa9d0>"
            ]
          },
          "metadata": {},
          "execution_count": 19
        },
        {
          "output_type": "display_data",
          "data": {
            "text/plain": [
              "<Figure size 432x288 with 1 Axes>"
            ],
            "image/png": "[encoded data removed]"
          },
          "metadata": {
            "needs_background": "light"
          }
        }
      ]
    },
    {
      "cell_type": "markdown",
      "source": [
        "We can see that the number of mails which are non-spam is much higher as compared to the ones which are spam."
      ],
      "metadata": {
        "id": "cV9LGVxe5WUB"
      }
    },
    {
      "cell_type": "markdown",
      "source": [
        "Adding a new column to analyze text length"
      ],
      "metadata": {
        "id": "jB7q9v7l5sIC"
      }
    },
    {
      "cell_type": "code",
      "source": [
        "email['text_length'] = email['text'].apply(len)\n",
        "email.head()"
      ],
      "metadata": {
        "colab": {
          "base_uri": "https://localhost:8080/",
          "height": 206
        },
        "id": "vRtFCl_z5p4k",
        "outputId": "5da226de-b116-4f7b-f6c7-54700cffcf6e"
      },
      "execution_count": 21,
      "outputs": [
        {
          "output_type": "execute_result",
          "data": {
            "text/plain": [
              "                                                text  spam  text_length\n",
              "0  Subject naturally irresistible your corporate ...     1         1403\n",
              "1  Subject the stock trading gunslinger fanny is ...     1          593\n",
              "2  Subject unbelievable new homes made easy im wa...     1          424\n",
              "3  Subject 4 color printing special request addit...     1          444\n",
              "4  Subject do not have money get software cds fro...     1          207"
            ],
            "text/html": [
              "\n",
              "  <div id=\"df-847abf53-fe2c-4b2e-ba37-d71bf1195e5f\">\n",
              "    <div class=\"colab-df-container\">\n",
              "      <div>\n",
              "<style scoped>\n",
              "    .dataframe tbody tr th:only-of-type {\n",
              "        vertical-align: middle;\n",
              "    }\n",
              "\n",
              "    .dataframe tbody tr th {\n",
              "        vertical-align: top;\n",
              "    }\n",
              "\n",
              "    .dataframe thead th {\n",
              "        text-align: right;\n",
              "    }\n",
              "</style>\n",
              "<table border=\"1\" class=\"dataframe\">\n",
              "  <thead>\n",
              "    <tr style=\"text-align: right;\">\n",
              "      <th></th>\n",
              "      <th>text</th>\n",
              "      <th>spam</th>\n",
              "      <th>text_length</th>\n",
              "    </tr>\n",
              "  </thead>\n",
              "  <tbody>\n",
              "    <tr>\n",
              "      <th>0</th>\n",
              "      <td>Subject naturally irresistible your corporate ...</td>\n",
              "      <td>1</td>\n",
              "      <td>1403</td>\n",
              "    </tr>\n",
              "    <tr>\n",
              "      <th>1</th>\n",
              "      <td>Subject the stock trading gunslinger fanny is ...</td>\n",
              "      <td>1</td>\n",
              "      <td>593</td>\n",
              "    </tr>\n",
              "    <tr>\n",
              "      <th>2</th>\n",
              "      <td>Subject unbelievable new homes made easy im wa...</td>\n",
              "      <td>1</td>\n",
              "      <td>424</td>\n",
              "    </tr>\n",
              "    <tr>\n",
              "      <th>3</th>\n",
              "      <td>Subject 4 color printing special request addit...</td>\n",
              "      <td>1</td>\n",
              "      <td>444</td>\n",
              "    </tr>\n",
              "    <tr>\n",
              "      <th>4</th>\n",
              "      <td>Subject do not have money get software cds fro...</td>\n",
              "      <td>1</td>\n",
              "      <td>207</td>\n",
              "    </tr>\n",
              "  </tbody>\n",
              "</table>\n",
              "</div>\n",
              "      <button class=\"colab-df-convert\" onclick=\"convertToInteractive('df-847abf53-fe2c-4b2e-ba37-d71bf1195e5f')\"\n",
              "              title=\"Convert this dataframe to an interactive table.\"\n",
              "              style=\"display:none;\">\n",
              "        \n",
              "  <svg xmlns=\"http://www.w3.org/2000/svg\" height=\"24px\"viewBox=\"0 0 24 24\"\n",
              "       width=\"24px\">\n",
              "    <path d=\"M0 0h24v24H0V0z\" fill=\"none\"/>\n",
              "    <path d=\"M18.56 5.44l.94 2.06.94-2.06 2.06-.94-2.06-.94-.94-2.06-.94 2.06-2.06.94zm-11 1L8.5 8.5l.94-2.06 2.06-.94-2.06-.94L8.5 2.5l-.94 2.06-2.06.94zm10 10l.94 2.06.94-2.06 2.06-.94-2.06-.94-.94-2.06-.94 2.06-2.06.94z\"/><path d=\"M17.41 7.96l-1.37-1.37c-.4-.4-.92-.59-1.43-.59-.52 0-1.04.2-1.43.59L10.3 9.45l-7.72 7.72c-.78.78-.78 2.05 0 2.83L4 21.41c.39.39.9.59 1.41.59.51 0 1.02-.2 1.41-.59l7.78-7.78 2.81-2.81c.8-.78.8-2.07 0-2.86zM5.41 20L4 18.59l7.72-7.72 1.47 1.35L5.41 20z\"/>\n",
              "  </svg>\n",
              "      </button>\n",
              "      \n",
              "  <style>\n",
              "    .colab-df-container {\n",
              "      display:flex;\n",
              "      flex-wrap:wrap;\n",
              "      gap: 12px;\n",
              "    }\n",
              "\n",
              "    .colab-df-convert {\n",
              "      background-color: #E8F0FE;\n",
              "      border: none;\n",
              "      border-radius: 50%;\n",
              "      cursor: pointer;\n",
              "      display: none;\n",
              "      fill: #1967D2;\n",
              "      height: 32px;\n",
              "      padding: 0 0 0 0;\n",
              "      width: 32px;\n",
              "    }\n",
              "\n",
              "    .colab-df-convert:hover {\n",
              "      background-color: #E2EBFA;\n",
              "      box-shadow: 0px 1px 2px rgba(60, 64, 67, 0.3), 0px 1px 3px 1px rgba(60, 64, 67, 0.15);\n",
              "      fill: #174EA6;\n",
              "    }\n",
              "\n",
              "    [theme=dark] .colab-df-convert {\n",
              "      background-color: #3B4455;\n",
              "      fill: #D2E3FC;\n",
              "    }\n",
              "\n",
              "    [theme=dark] .colab-df-convert:hover {\n",
              "      background-color: #434B5C;\n",
              "      box-shadow: 0px 1px 3px 1px rgba(0, 0, 0, 0.15);\n",
              "      filter: drop-shadow(0px 1px 2px rgba(0, 0, 0, 0.3));\n",
              "      fill: #FFFFFF;\n",
              "    }\n",
              "  </style>\n",
              "\n",
              "      <script>\n",
              "        const buttonEl =\n",
              "          document.querySelector('#df-847abf53-fe2c-4b2e-ba37-d71bf1195e5f button.colab-df-convert');\n",
              "        buttonEl.style.display =\n",
              "          google.colab.kernel.accessAllowed ? 'block' : 'none';\n",
              "\n",
              "        async function convertToInteractive(key) {\n",
              "          const element = document.querySelector('#df-847abf53-fe2c-4b2e-ba37-d71bf1195e5f');\n",
              "          const dataTable =\n",
              "            await google.colab.kernel.invokeFunction('convertToInteractive',\n",
              "                                                     [key], {});\n",
              "          if (!dataTable) return;\n",
              "\n",
              "          const docLinkHtml = 'Like what you see? Visit the ' +\n",
              "            '<a target=\"_blank\" href=https://colab.research.google.com/notebooks/data_table.ipynb>data table notebook</a>'\n",
              "            + ' to learn more about interactive tables.';\n",
              "          element.innerHTML = '';\n",
              "          dataTable['output_type'] = 'display_data';\n",
              "          await google.colab.output.renderOutput(dataTable, element);\n",
              "          const docLink = document.createElement('div');\n",
              "          docLink.innerHTML = docLinkHtml;\n",
              "          element.appendChild(docLink);\n",
              "        }\n",
              "      </script>\n",
              "    </div>\n",
              "  </div>\n",
              "  "
            ]
          },
          "metadata": {},
          "execution_count": 21
        }
      ]
    },
    {
      "cell_type": "code",
      "source": [
        "maxlen = email[\"text_length\"].max()\n",
        "maxindex = email[\"text_length\"].idxmax()\n",
        "print(maxlen,maxindex)\n",
        "email[\"spam\"][2650]"
      ],
      "metadata": {
        "colab": {
          "base_uri": "https://localhost:8080/"
        },
        "id": "9ApFOIb65VkR",
        "outputId": "83feea35-84b0-4446-9584-2c485bc90d2a"
      },
      "execution_count": 23,
      "outputs": [
        {
          "output_type": "stream",
          "name": "stdout",
          "text": [
            "41301 2650\n"
          ]
        },
        {
          "output_type": "execute_result",
          "data": {
            "text/plain": [
              "0"
            ]
          },
          "metadata": {},
          "execution_count": 23
        }
      ]
    },
    {
      "cell_type": "code",
      "source": [
        "email[\"text\"][2650]"
      ],
      "metadata": {
        "colab": {
          "base_uri": "https://localhost:8080/",
          "height": 123
        },
        "id": "s56fABdH5UMV",
        "outputId": "189ceadd-70c6-45d9-f916-071dd6146477"
      },
      "execution_count": 24,
      "outputs": [
        {
          "output_type": "execute_result",
          "data": {
            "text/plain": [
              "'Subject from the enron india newsdesk april 27 th newsclips fyi news articles from indian press forwarded by sandeep kohli enron _ development on 04 27 2001 08 24 am nikita varma 04 27 2001 07 51 am to nikita varma enron _ development enron _ development cc bcc sandeep kohli enron _ development subject from the enron india newsdesk april 27 th newsclips friday apr 27 2001 http www economictimes com today cmo 3 htm dpc board empowers md to cancel mseb contract friday apr 27 2001 http www economictimes com today 27 compl 1 htm mseb pays rs 134 cr under protest to dpc friday april 27 001 http www businessstandard com today economy 4 asp menu 3 enron india md authorised to terminate ppa friday april 27 2001 http www financialexpress com fe 20010427 topl html foreign lenders slam brakes on disbursements to dpc sanjay jog raghu mohan global banks comfortable with enron pull out friday april 27 2001 http www indian express com ie 20010427 nat 23 html enron dabhol chief gets powers to end deal with the mseb friday april 27 2001 http www the hindu com stories 0227000 d htm offer of renegotiation too late enron by mahesh vijapurkar friday 27 april 2001 http www timesofindia com today 27 home 2 htm enron ready to pull out but lenders say wait friday april 27 2001 http www hindubusinessline com stories 142756 dh htm dpc board authorises md to issue ppa termination notice friday april 27 2001 http www dailypioneer com secon 2 asp cat story 7 d front _ page enron testing maharashtra s nerves t n raghunatha friday april 27 2001 http www telegraphindia com enron signal to switch off dabhol power friday april 27 2001 http www thestatesman org page news php 3 id 13026 type pageone theme a enron threatens to pull out friday april 27 2001 http www chalomumbai com asp article asp cat _ id 29 art _ id 10006 cat _ code 2 f 574841545 f 535 f 4 f 4 e 5 f 4 d 554 d 4241492 f 5441415 a 415 f 4 b 4841424152 dpc may not wind up friday april 27 2001 http www chalomumbai com asp article asp cat _ id 29 cat _ code 2 f 574841545 f 535 f 4 f 4 e 5 f 4 d 554 d 4241492 f 5441415 a 415 f 4 b 4841424152 art _ id 9953 enron offers no comment on renegotiation h s rao http www afternoondc com enron s on state govt to renegotiate dabhol power project by hubert vaz the economic times friday apr 27 2001 dpc board empowers md to cancel mseb contract the enron power project crisis on thursday deepened with the board of dabhol power company authorising the management to issue a termination notice to the maharashtra state electricity board even while international lenders to the project asked enron to renegotiate power purchase agreement signed with the mseb the decision to authorise managing director neil mcgregor to issue notice of termination on the contract to sell 740 mw of power was taken after the board prevented mseb from voting on the ground that it was an interested party the decision was taken with six votes in favour and the single opposition vote was cast by idbi sources said according to reports financial institutions such as anz investment bank credit suisse first boston citibank abn amro and the state bank of india have on wednesday advised enron against terminating its ppa with mseb mseb chairman vinay bansal who with two other directors attended the meeting on wednesday representing maharashtra s 15 per cent stake in the near 3 billion project said the indian side told them that it would be unfortunate if enron broke the contract while bansal declined comment on the board decision the sources said the indian side had expressed its interest to holds talks on the issue rather than terminating the project and there were possibilities of a fresh power purchase agreement between the company and the state pti the economic times friday apr 27 2001 mseb pays rs 134 cr under protest to dpc despite the threat of a possible termination notice hanging on its head maharashtra state electricity board on thursday made a protest payment of rs 134 crore disputed amount towards march bill of rs 146 64 crore to dabhol we were ready with the payment on wednesday itself but dpc officials could not collect the cheque due to the statewide bandh a senior mseb official said we have disputed payment of rs 12 64 crore and it would be now taken up at the disputes resolution forum of which enron india managing director k wade cline and krishna rao are members mseb sources said last week dpc had dashed off a communication to the government and mseb that it would not accept protest payments anymore cline had said the energy major shall treat such payments as an election to pay the sums which mseb in fact owed dpc in full and that the company would also not recognise the purported protest or reservation mseb had paid a rs 113 5 crore february bill in protest last month on april 23 last both domestic and international lenders of dpc had met in london and held exhaustive discussions the multinational s move to issue a termination notice to mseb and state government pti business standard friday april 27 001 enron india md authorised to terminate ppa the board of the enron promoted dabhol power company dpc at its meeting in london on wednesday authorised the managing director of enron india to issue a notice for terminating the power purchase agreement to the maharashtra state electricity board and the state government the board has authorised wade cline to serve the termination notice however this does not mean that the termination notice will be served immediately it is only an enabling provision and will be used only if the situation arises a state government source told business standard from london he said dpc was under pressure from its lenders the dpc spokesperson here refused to comment on the issue the hardening of the board s stand is in sharp contrast to the advice of dpc s lenders who had warned enron not to precipitate matters by issuing a termination notice the lenders had arrived at a consensus that the termination notice need not be served at this stage serving of the notice requires a nod from the lenders who have an exposure of about 2 billion in the project sources said given the lenders strong opposition to termination of the contract the enron board s enabling resolution did not have much significance beyond conveying a hardening of its stand with regard to the current imbroglio the maharashtra chief minister had warned enron not to scuttle the process of crisis resolution by issuing a termination notice the state government is to nominate an expert group to renegotiate the terms of the dabhol contract enron holds 65 per cent in dpc while us based ge and bechtel hold 10 per cent each the balance 15 per cent is held by mseb through a special purpose vehicle maharashtra power development corporation the mseb representatives were not allowed to vote at the meeting since they were an interested party the idbi representative protested against the board s decision the meeting was attended by state energy secretary vm lal the meeting was held against the backdrop of a dispute between mseb and dpc over payment of bills after mseb failed to pay rs 102 crore towards the december 2000 bill dpc invoked the state government s guarantee and then the union government s counter guarantee when payment of the rs 127 crore january bill became overdue dpc again invoked the state government s guarantee mseb retaliated on january 28 2001 by slapping a rs 401 crore penalty for non supply of electricity at adequate levels it demanded that dpc adjust the bills against this penalty this stand of mseb was explained to dpc at the board meeting a state government official said the centre also supported mseb s stand and refused to honour the counter guarantee the power company then invoked the political force majeure clause a process of conciliation and arbitration between the centre and dpc is currently on the financial express friday april 27 2001 foreign lenders slam brakes on disbursements to dpc sanjay jog raghu mohan global banks comfortable with enron pull out lenders to the dabhol power company dpc are a sharply divided lot international lenders in direct contrast to the stand taken by local ones led by the the industrial develoment bank of india idbi are categorical that additional assistance to dpc s phase ii will be held in abeyance despite the completion of 92 per cent of the project work the stage is also set for a preliminary termination notice to be served by dpc to the maharashtra state electricity board mseb within the next four weeks this follows the authorisation given to enron india s managing director k wade cline and dpc president ceo neil mcgregor to serve the termination notice and transfer notices to mseb following wednesday s dpc board meeting in london the essence of the message from the international lenders following the london meeting with dpc board is emotions do not work contractual obligations and payments have to be met we are convinced that the mseb has failed to meet its obligations there is no point in enron continuing with the project and the company should get out of it the structuring of dpc s debt has created two classes of lenders in phase i international lenders are covered by a sovereign guarantee while in phase ii no lender is however all lenders have a parri passu charge making attachment of assets a messy affair sources in international banks were quick to point out that local lenders to phase ii of the project are worried that an awry dpc project will affect their interests more given that they have no security other than assets like a sovereign cover it was this desperation that made local lenders like idbi slash the interest rates a few months back to 16 5 per cent from 21 5 per cent a leading foreign banker pointed out three points that were made clear and stressed in no uncertain terms by international lenders were a there are contractual obligations b mseb was not punctual in its payments to dpc and c mseb adopted a confrontational position by slapping a rs 401 crore rebate charge on dpc for misdeclaration and default on the availability of power while local lenders led by idbi with mseb parroting the same were of the view that the current situation is a temporary one international lenders were steadfast that pulling out of the project is the only way out this is despite the stance taken by idbi and mseb that authorisation for termination given to mr cline and mr mcgregor was not called for international bankers pointed out that they will now have to look at the issue of charges and protection for their loans in the event of the power project being scrapped in its present form the points of contention are a that phase i of dpc is backed by a sovereign guarantee b phase ii is not and c to the extent that phase ii is covered by assets cancellation of phase ii may see all assets even those under phase i getting attached therefore an examination on the segregation of assets under phase i and phase ii is now warranted pti adds in a significant move dpc board has empowered its management to sever power supply agreement with mseb a move that could inflict a financial liability of about rs 2840 crore on the centre a decision to authorise dpc president neil mcgregor to issue a termination notice to mseb for sale of power was taken by the board at its meeting on wednesday the indian express friday april 27 2001 enron dabhol chief gets powers to end deal with the mseb the board of dabhol power company a subsidiary of houston based enron corp has decided to warn the maharashtra state electricity board mseb that it intends to pull the plug on its guhagar based project in a board meeting held in london on wednesday the board decided to authorise dpc president and ceo neil mcgregor and enron india s managing director k wade cline to serve a preliminary termination notice for sale of power to the mseb within the next four weeks the dabhol project has been mired in disputes since mseb began missing payments last year mseb owes dabhol power 48 million for power delivered in december and january the payment ran into a dispute after mseb slapped penalty notices of rs 401 crore on dpc for its failure to supply power within three hours of the demand being placed but mseb has paid 24 million for february and a payment of 31 million was made for march on thursday the 3 billion dabhol project is the largest foreign investment made in india to date issuing the preliminary termination notice could enable dabhol to suspend deliveries as it negotiates payment disputes while a preliminary termination notice is the first of three steps that could potentially lead to the abandonment of the project by enron analysts have described the decision as a procedural move consistent with dpc s negotiating strategy to recover overdue payments from the mseb after the company issues the preliminary termination notice step two would be an official termination notice and step three would be a notice that the company is surrendering control of the project if the project is terminated the government of india will have to take a hit of 300 million besides paying bills of rs 1 500 crore for the next one year to enron as penalty our centre s liability if dabhol power project is terminated would be one year s electricity bill and a termination fee of 300 million power secretary a k basu said contractually the centre will have to pay one year s electricity bill totalling at present prices about rs 1 400 1 500 crore and take over dpc s debt which stands at around 300 million if the project was terminated basu said in delhi dabhol power is in the process of completing the second phase of the 2 184 megawatt power plant project which is 95 per cent through while the international lenders to the project are pressurising the company to get out of the project indian lenders led by idbi are asking the company to reconsider its decision on its termination notice during the meeting in london mseb which holds a 15 per cent stake in the project had strongly opposed dpc s move to authorise cline and mcgregor to issue notices for termination mseb chairman vinay bansal and technical director prem paunikar both directors on the dpc board and the state principal secretary energy vm lal an invitee to the board raised the issue at the board meeting in london mseb claimed that dpc was needlessly threatening to issue various arbitration notices and thereby interpreting the clauses of ppa in isolation in recent weeks dabhol has raised the stakes in its spat with the mseb delivering a notice of political force majeure to maharashtra a step typically invoked to dissolve a contract in case of an emergency like a war coup or a similar radical political event in this case dpc s move was viewed as a threat to stop providing electricity dpc has come under fire because of the relatively high cost of its power critics object to the company charging rs 7 1 a kilowatt hour for its power compared with around rs 1 5 a kilowatt hour charged by other suppliers the hindu friday april 27 2001 offer of renegotiation too late enron by mahesh vijapurkar mumbai april 26 the enron sponsored dabhol power company which last night authorised its local management to issue a notice of termination of its power purchase agreement ppa with the maharashtra state electricity board has decided to keep a stiff upper lip this in turn has stoked speculation that the switching off of power from its phase i plant was imminent while in reality a lengthy procedure has to be followed as prescribed within the ppa as one source familiar with the ppa told the hindu it is not sudden death of the project and in all probability the dpc vexed with the developments including sharp and pointed observations by the godbole committee has chosen to only arm itself with a serious option this would only eventually come into effect it is not an overnight operation and a lot of legal work is involved apparently the dpc intends to do some arm twisting at the board of directors meeting in london which maharashtra was initially disinclined to attend but later used the forum to put across its contentions on the project the dpc squarely told the mseb nominees on the board that the offer of renegotiation had come rather too late it also said it did not see any room for optimism about the outcome it did not however rule out the option of talks thus underscoring the possibility that the decision to authorise termination was a new weapon the maharashtra chief minister mr vilasrao deshmukh had hoped that dpc would not take any harsh step which would cause lot of damage to the interests of both the independent power producer and the government and today he expressed his dismay in fact the mandate of the team that went on the strength of its stake in the dpc was to put across the idea that negotiation was the requirement and not confrontation echo in ls the enron issue also echoed in the lok sabha today where the power minister mr suresh prabhu said that scrapping of the agreement would cost the centre rs 2 840 crores whose liability in the project agreement was limited the centre s liability in case of termination is one year s electricity bill and a termination fee of 300 million blow to fis the termination could prove to be a serious blow to the indian financial institutions fis which under the leadership of the idbi were trying to convince the other lenders of the project against the notice the exposure of indian fis in the project is understood to be not covered by any guarantee either of the centre or the state the times of india friday 27 april 2001 enron ready to pull out but lenders say wait the dabhol power company board which met on wednesday in london authorised the company management to issue a termination notice to the maharashtra state electricity board the company however may not pull out of the project yet considering its lenders who met on monday opposed such a move and favoured renegotiations sources present during both the meetings said that though foreign lenders supported enron on the termination issue domestic financial institutions led by the industrial development bank of india prevailed over the deliberations to oppose any such drastic move enron needs the lenders consent to file a pre termination notice for pulling out from the project the decision to empower dpc chief wade cline to issue a termination notice was taken with six votes in favour against a single idbi vote against such a move another significant development during the entire proceedings was that the financial institutions made it clear that further funding of phase ii of the project will depend on the government of india assuring payment mechanisms institutions are yet to disburse about 30 per cent of the sanctioned package which is crucial for completing the phase ii expansion project the board has given powers to wade cline to issue a pre termination notice but the meeting quite unanimously felt the need of the hour is not to terminate the project but to initiate serious re negotiation proceedings said mseb chairman vinay bansal who attended the board meeting mseb presented their views to the board members and it was understood by enron which also included the rs 401 crore penalty issue which is heading for arbitration proceedings we have also made it clear that the tariff structure of enron is quite high and a downward revision of tariffs is unavoidable bansal added they cannot issue a termination notice without our consent since our exposure in the project is quite large and the lenders should approve any plans in that direction said a top banker who was present during the lenders meet there is a general consensus that the project must be completed and the proposal to terminate the ppa should be kept in abeyance he added the global arrangers for the dpc include anz investment bank credit suisse first boston abn amro citibank and the state bank of india where all these parties conducted separate meetings with the company officials however some bankers said the company can file a termination notice even if one lender with a minimum 5 per cent exposure on the project favours such proceedings meanwhile in a clear reversal of roles maharashtra chief minister vilasrao deshmukh said that the state government was not keen on terminating the ppa we will ask them to refrain from taking any such harsh steps since that would be bad news for all of us including dpc deshmukh said deshmukh was echoing union power minister suresh prabhu s sentiments who said that the government wanted an amicable settlement of the payment row he however added that termination of the project would not hurt foreign investments and dismissed warnings by analysts that winding up the 2 9 billion project would be a blow to india s efforts to woo foreign investors the dpc has already slapped one conciliation notice on the centre and three arbitration notices on the state government over non payment of dues amounting to rs 213 crore and interest towards the bills due for december 2000 and january 2001 meanwhile mseb officials said in mumbai that the march bills amounting to rs 134 crore was paid on thursday as protest payment despite the dispute over the amount when asked on the future course of action bansal said it was up to the dpc the hindu businessline friday april 27 2001 dpc board authorises md to issue ppa termination notice the board of directors of dabhol power company dpc has authorised the managing director mr neil mcgregor to issue the notice of intent to terminate its power purchase agreement ppa with the maharashtra state electricity board mseb at an appropriate time the decision was taken at a board meeting held in london yesterday while mseb which is an interested party was not allowed to vote it made a presentation clarifying its stand on the matter a senior state government official said the resolution to authorise the management to issue the termination notice was carried by six votes to one idbi voted against the decision the official said the serving of the preliminary termination notice will lead to a six month suspension period according to clause 17 8 of the termination procedure of the ppa following the giving of a preliminary termination notice the parties shall consult for a period of six months or such longer period as they may agree as to what step shall be taken with a view to mitigating the consequences of the relevant event having regard to all the circumstances idbi and state bank of india the principal indian lenders had earlier persuaded the overseas lenders to hold their consent to the termination notice for some more time at least one lender has to consent for the company to serve termination notice it is understood that overseas lenders are in favour of termination of the project and are prepared to consent however domestic lenders are worried about the security of their advances if the ppa is abandoned mid way according to institutional sources indian lenders are trying to get all the parties concerned to thrash out outstanding issues the maharashtra and central governments too are in favour of a conciliation mr vilasrao deshmukh chief minister of maharashtra yesterday went on record that the state did not want the project terminated mr yashwant sinha union finance minister is also understood to be of the same opinion the dpc will now have to decide what is the appropriate time to serve the notice the official said mseb pays rs 134 crore meanwhile mseb has paid dpc rs 134 crore towards its march 2001 bill mseb officials confirmed that the bill was paid in protest today morning they dpc had billed us for an amount of rs 146 crore we do not agree with some of the items included a senior mseb official said the pioneer friday april 27 2001 enron testing maharashtra s nerves t n raghunatha dabhol power company dpc has begun to put fresh pressure on the maharashtra state electricity board mseb the maharashtra state government and the centre for an early resolution to the prolonged dispute between them if the dpc board of directors decision to authorise its managing director to serve a contract termination notice to the mseb is any indication the dpc board in its meeting in london on wednesday empowered the company management to sever its power supply agreement with mseb a move that could inflict a financial liability of rs 2 840 crore on the centre the decision to authorise the dpc management to issue a termination notice to mseb was taken by a vote of six to one after the maharasthra government representatives were prevented from voting on the ground of interested party when contacted the company s mumbai based spokesperson mr jimmy mogal declined to comment on the reports about the decision taken by the dpc board we have nothing to say on the reports emanating from london we will express our views after a few days he said however maharashtra chief minister vilasrao deshmukh on thursday termed the dpc board s decision as unfortunate we have already requested the company not to take any harsh decision mr deshmukh said in mumbai official sources in the state energy ministry interpreted the dpc board s decision as a pressure tactic employed by the enron subsidiary to force the mseb to clear the pending power bills without any further delay through its tough posture the dpc wants to make its position stronger before it can formally agree for re negotiations with the mseb the centre and the state government for cutting the price of power supplied by it to the state electricity board the sources said that the dpc s reported decision to authorise its managing director to stop electricity supply to the mseb did not mean that the enron subsidiary would actually go ahead with the scrapping of the power contract with the mseb if anything the dpc s reported decision is to mount additional pressure on the mseb for clearance of pending power bills and put itself in a stronger position in settling its dispute with the mseb as part of its plan to arm itself with powers to break a contract in case situation goes beyond its control the dpc had recently served a political force majeure to the mseb the centre and the state government the sources said not surprisingly the dpc s london decision comes on the heels of the maharashtra government s decision to set up a high level committee comprising representatives of the mseb the centre and the state government to re negotiate with the enron s subsidiary company for reducing the cost of power supplied to the state electricity board meanwhile amidst the threat of a possible termination notice hanging on its head the mseb on thursday made a protest payment of the rs 134 crore disputed amount towards march bill of rs 146 64 crore to dpc riday april 27 the telegraph friday april 27 2001 enron signal to switch off dabhol power enron today took the first decisive step out of the controversy ridden dabhol power company when it won an authorisation from the company s board to stop sale of power to maharashtra state electricity board mseb the meeting of the company of which the houston based energy giant holds 65 per cent and the mseb 15 per cent was attended by state energy secretary v m lal and mseb technical director p paunikar and it came days after its lenders discussed payment problems and a possible termination the centre s liability if enron decides to snap the agreement will be a year s power bill and a termination fee of 300 million however the company will have to wait for six months from the day it serves the notice before it pulls the plug the centre shrugged off the move saying there would not be any adverse effect on foreign investment in power if enron walks out we do not see fdi inflows into the power sector being hit power minister suresh prabhu said mseb officials said the ball is now in the court of dpc which said its corporate policy did not allow it to comment on proceedings at board meetings the decision coincided with a rs 134 crore protest payment by the cash strapped power board as part of the march bill worth rs 146 64 crore there was speculation that mseb coughed up the amount to cool frayed tempers at enron s hub in houston and because it was rattled by the sudden turn of events in the past few days during which the dispute had come to a head mseb officials brushed away the allusions saying the cheque was ready on wednesday but could not be handed over to dpc because of the state wide bandh we have a disputed payment of rs 12 64 crore which will be taken up at the dispute resolution forum a board official said last week dpc told the state government and mseb it would no longer accept protest payments in a move to fortify its legal position mseb officials say bechtel and general electric the other partners who hold around 20 per cent in dpc are willing to go along with enron corp in terminating the deal but financial institutions such as idbi are not game because it puts their loans at risk investments made by indian institutions are not covered under the centre s and state s counter guarantees unlike those made by international lenders maharashtra chief minister vilasrao deshmukh called enron s decision unfortunate we had told state government officials attending the enron board meeting to stop the company from winding up its operations in the state as it will harm both parties the statesman friday april 27 2001 enron threatens to pull out the enron crisis deepened with the board of directors of the dabhol power company deciding to authorise the managing director mr k wade cline to serve a notice of termination on the contract for the first phase of the 2 9 billion power project the decision which could lead to the cessation of dabhol s power supply to the state was taken at the meeting held yesterday in london according to reports quoting the chairman of the maharashtra state electricity board mr vinay bansal while dpc officials refuse to comment on anything it is learnt that mseb was itself prepared to serve a legal notice of termination just two days before the meeting mseb was said to have been dissuaded by the nationalist congress party president mr sharad pawar and union power minister mr suresh prabhu who had talks in new delhi with the maharashtra chief minister mr vilasrao deshmukh and an mseb delegation last monday the state government has been served two arbitration notices while the centre is ready to go for conciliation with the dpc for failing to honour its counter guarantee further the dpc has already slapped a notice of political force majeure which protects itself against undeserved claims in the event of exigencies that force it to take an extreme step the union power minister mr suresh prabhu contended in delhi that since dpc contributed only 0 7 per cent of the total energy output of the country its termination would not have such a phenomenal impact on the power situation however if terminations proceedings go through enron corp a 65 per cent share holder in the dabhol power company would stand to net a hefty amount in damages the union power secretary has been quoted as saying that termination of the dpc would cost the centre rs 1 800 crore which is the total of one years electricity bill and a termination fee of 300 million according to an energy analyst mr pradyumna kaul the total liability would not cross rs 350 crore however mr prabhu said in the lok sabha today that the that scrapping of the agreement would cost the centre rs 2 840 crore it is learnt that on 20 april mr deshmukh had given the go ahead to the mseb to prepare a legal notice to be issued to enron during the meeting of the dpc s board of directors on wednesday at the meeting the energy minister padamsinh patil energy secretary mr vinay mohan lal and mseb chairman mr vinay bansal were also present the notice was prepared over the past weekend and taken by the delegation when they called on mr prabhu on 24 april however the politicians convinced them that enron would not get tough given its huge stake in the project and that such a notice would not be necessary the meeting thus ended with the decision to renegotiate the power tariff with enron s consent among those present at the london meeting were mr lal mr bansal and mseb technical director mr p paunikar in their capacity as directors however they abstained from voting since they were deemed an interested party the only vote to go against the decision was that of the idbi which is also represented on the board it is learnt the chief minister mr vilasrao deshmukh said the state was not in favour of terminating the project this could mean that the latest manoeuvre to arm twist the indian authorities could achieve its immediate target of getting the arrears accumulated over the past three months cleared the mseb owes enron rs 146 64 crore for march 2001 and rs 229 crore for december 2000 and january 2001 the centre today put up a brave face on enron s decision saying there would not be any adverse effect on foreign investment in power sector in the country pti reported from new delhi there will be no adverse impact as a result of any action by any domestic or foreign company as far as we are concerned there will be no adverse impact on fdi in power sector power minister suresh prabhu told reporters when asked about dpc s decision to authorise management to issue a termination notice to mseb emphasising that there would be no fallout of such decision prabhu said after the meeting of the cabinet committee on economic affairs we are expecting cooperation from many scandinavian countries as well as european nations in the power sector in fact not only the power minister but also the prime minister of norway was here to inaugurate a seminar on power and he promised lot of cooperation in the sector mid day dpc may not wind up maharashtra chief secretary v ranganathan has said that though neil mcgregor managing director of the dabhol power corporation dpc has been given complete powers with regard to dpc s operations in the state including the authority to wind up operations it does not necessarily mean that mcgregor will issue such a termination notice mcgregor was given the powers at a meeting of the dpc board in london on wednesday ranganathan said that state officials including maharashtra state electricity board mseb chairman vinay bansal and power secretary v m lal have reported back to him about the meeting in london with regard to the state s failure to pay enron ranganathan said bills are prepared as per the power purchase agreement ppa and dpc owes some money to us our people informed enron officials about this in fact there was no reason to give powers to the md to slap a termination notice in the london meeting mseb and industrial development bank of india idbi representatives insisted that the dpc must pay rs 411 crore since it could not supply power whenever needed chief minister vilasrao deshmukh has already termed as unfortunate the decision of the board of the enron promoted dpc to give mcgregor powers to wind up operations deshmukh added we have already requested enron not to take any harsh decision deshmukh had earlier said we have directed state government officials attending the dpc board meeting to desist the energy company from winding up operations in the state as it would be harmful to both of us enron officials are keeping mum on the issue mcgregor said i am not going to give any comment mid day april 27 2001 enron offers no comment on renegotiation h s rao a crucial meeting of the board of directors of the dabhol power company dpc promoted by the us energy major enron was held here yesterday apparently to discuss fate of its 900 million power project in maharashtra but there was no official word on the indian and state governments decision to renegotiate the contract an enron spokesman declined to divulge what transpired at the meeting saying the issues discussed at the meeting were confidential we have not received any direct communication unless we get it and evaluate the details we have no comments to make the spokesman said when asked about the proposed decision on re negotiation of the project in which the maharashtra state electricity board mseb has 15 per cent stake asked whether the board had taken a decision on empowering dpc managing director neil mcgregor to wind up its operations in india the spokesman said he had nothing to say on them enron has reportedly authorised mcgregor to look at various options including selling the company s stake in dpc maharashtra chief minister vilasrao deshmukh said in mumbai that the state government would pay up the undisputed dues to the company he said the maharashtra government is not in favour of terminating the 2184 mw project but wanted an amicable solution to the imbroglio mid day friday april 27 2001 committee to renegotiate enron deal a committee to renegotiate the power purchase agreement with the dabhol power company will be appointed by this evening chief minister vilasrao deshmukh said today addressing media persons after his meeting with the noted social reformer anna hazare at his official residence varsha deshmukh said the committee would be formed by this evening or by tomorrow at the most he termed as unfortunate the enron board decision empowering dpc chief neil mcgregor to serve a preliminary termination notice on the maharashtra state electricity board and said the state was willing to negotiate the issue with power company renegotiations will be held as per the suggestions made by the godbole committee and the center will also depute its representative on the renegotiating committee we don t want to take any hasty decision deshmukh saidhe pointed that the only bone of contention with the dpc had been its expensive tariff and hoped that the issue would be resolved amicably when pointed that the enron board had taken a decision to serve the notice despite state s willingness to appoint a renegotiating committee chief minister said it was unfortunate earlier in his meeting with hazare deshmukh promised to make necessary amendments to the right to information law recently passed by the state so that the information was easily accessed by the common people he also gave a patient hearing to hazare on his complaints of corruption in various state departments and promised action against guilty after a thorough inquiry within three months afternoon april 27 2001 enron s on state govt to renegotiate dabhol power project by hubert vaz the us power giant enron power corporation s willingness to wrap up the dabhol power project and leave the shores may not actually materialise though the dabhol power company chief mr wade cline has been authorised to do so since the lenders for the project would have a decisive say in the matter disclosing this chief minister vilasrao deshmukh confirmed this morning that the state government would churn out a compromise formula by which the power project at dabhol could be continued and at the same time enron did not feel slighted enron has not yet conveyed to us about this decision we are waiting for their letter he said when asked what sort of compromise the state government plans to forge mr deshmukh said let our officers come back after that we will decide a future course of action but we are definitely going in for renegotiation of the project it is very difficult to predict the outcome of enron s decision but as of now the project is still on when asked whether the project could be moved to another state if wound up from maharashtra mr deshmukh said that was not possible as per the terms of the agreement between the us company and the state government however it was difficult for the project to move out of the state itself he indicated he also confirmed that both parties would face considerable losses if the project was terminated the board of directors of the dabhol power company which met in london on wednesday decided to put an end to all controversies surrounding the project once and for all by empowering the dpc chief to terminate the project if he deemed it fit however this decision as of now does not necessarily indicate the death knell for the project the enron project which had been riddled with controversies right from its inception had been a pretext for the political parties in the state to drag each other on the mat from time to time the previous sena bjp government which had been out to terminate the project however chose to continue with it following renegotiations with enron s top visiting officials like ms rebecca mark and the democratic front government inherited the controversial project when the governments changed hands a year and a half ago meanwhile state energy minister dr padamsinh patil when contacted at the osmanabad circuit house said the state government and the central government have decided to appoint a joint committee to renegotiate the project with enron it is not easy for them to walk out of the project just like that they will have to go in for litigation and this would prove costly for both sides he said in case the project is terminated the government can still manage the power needs of the state though it would be a bit tough job he added'"
            ],
            "application/vnd.google.colaboratory.intrinsic+json": {
              "type": "string"
            }
          },
          "metadata": {},
          "execution_count": 24
        }
      ]
    },
    {
      "cell_type": "markdown",
      "source": [
        "The above shown mail is the one which has the maximum length of 41k and is not a spam message"
      ],
      "metadata": {
        "id": "ziOiOPxC55hU"
      }
    },
    {
      "cell_type": "code",
      "source": [
        "import nltk\n",
        "from nltk.corpus import stopwords\n",
        "\n",
        "# Build a new corpus variable called corpus.\n",
        "corpus = pd.DataFrame()\n",
        "corpus['text'] = email['text']\n",
        "corpus['spam'] = email['spam']\n",
        "\n",
        "# Using tm_map, convert the text to lowercase.\n",
        "corpus['text'] = corpus['text'].apply(lambda x: x.lower())\n",
        "\n",
        "# Remove all punctuation from the corpus.\n",
        "corpus['text'] = corpus['text'].map(remove_punctuations)\n",
        "\n",
        "# Remove all English stop words from the corpus.\n",
        "nltk.download(\"stopwords\")\n",
        "print(stopwords.words('english'))\n",
        "\n",
        "# creating the stopwords dictionary object\n",
        "from collections import Counter\n",
        "stop_words = stopwords.words('english')\n",
        "stopwords_dict = Counter(stop_words)"
      ],
      "metadata": {
        "colab": {
          "base_uri": "https://localhost:8080/"
        },
        "id": "p1DfsM9r54I4",
        "outputId": "c64f5c93-4cd9-43bc-deb3-fb1469674c4e"
      },
      "execution_count": 25,
      "outputs": [
        {
          "output_type": "stream",
          "name": "stdout",
          "text": [
            "['i', 'me', 'my', 'myself', 'we', 'our', 'ours', 'ourselves', 'you', \"you're\", \"you've\", \"you'll\", \"you'd\", 'your', 'yours', 'yourself', 'yourselves', 'he', 'him', 'his', 'himself', 'she', \"she's\", 'her', 'hers', 'herself', 'it', \"it's\", 'its', 'itself', 'they', 'them', 'their', 'theirs', 'themselves', 'what', 'which', 'who', 'whom', 'this', 'that', \"that'll\", 'these', 'those', 'am', 'is', 'are', 'was', 'were', 'be', 'been', 'being', 'have', 'has', 'had', 'having', 'do', 'does', 'did', 'doing', 'a', 'an', 'the', 'and', 'but', 'if', 'or', 'because', 'as', 'until', 'while', 'of', 'at', 'by', 'for', 'with', 'about', 'against', 'between', 'into', 'through', 'during', 'before', 'after', 'above', 'below', 'to', 'from', 'up', 'down', 'in', 'out', 'on', 'off', 'over', 'under', 'again', 'further', 'then', 'once', 'here', 'there', 'when', 'where', 'why', 'how', 'all', 'any', 'both', 'each', 'few', 'more', 'most', 'other', 'some', 'such', 'no', 'nor', 'not', 'only', 'own', 'same', 'so', 'than', 'too', 'very', 's', 't', 'can', 'will', 'just', 'don', \"don't\", 'should', \"should've\", 'now', 'd', 'll', 'm', 'o', 're', 've', 'y', 'ain', 'aren', \"aren't\", 'couldn', \"couldn't\", 'didn', \"didn't\", 'doesn', \"doesn't\", 'hadn', \"hadn't\", 'hasn', \"hasn't\", 'haven', \"haven't\", 'isn', \"isn't\", 'ma', 'mightn', \"mightn't\", 'mustn', \"mustn't\", 'needn', \"needn't\", 'shan', \"shan't\", 'shouldn', \"shouldn't\", 'wasn', \"wasn't\", 'weren', \"weren't\", 'won', \"won't\", 'wouldn', \"wouldn't\"]\n"
          ]
        },
        {
          "output_type": "stream",
          "name": "stderr",
          "text": [
            "[nltk_data] Downloading package stopwords to /root/nltk_data...\n",
            "[nltk_data]   Unzipping corpora/stopwords.zip.\n"
          ]
        }
      ]
    },
    {
      "cell_type": "code",
      "source": [
        "def remove_stopwords_from_sentence(sentence):\n",
        "    modified_sentence = ' '.join([word for word in sentence.split() if word not in stopwords_dict])\n",
        "    return modified_sentence"
      ],
      "metadata": {
        "id": "FwK6XSnV7caR"
      },
      "execution_count": 26,
      "outputs": []
    },
    {
      "cell_type": "code",
      "source": [
        "# remove stopwords from the sentence\n",
        "corpus['text'] = corpus['text'].apply(remove_stopwords_from_sentence)"
      ],
      "metadata": {
        "id": "oYawf-ho7dUx"
      },
      "execution_count": 27,
      "outputs": []
    },
    {
      "cell_type": "code",
      "source": [
        "corpus.head()"
      ],
      "metadata": {
        "colab": {
          "base_uri": "https://localhost:8080/",
          "height": 206
        },
        "id": "2_DLBzH27gBL",
        "outputId": "a2b7130f-4249-42d5-eb05-832d42a9ee5c"
      },
      "execution_count": 28,
      "outputs": [
        {
          "output_type": "execute_result",
          "data": {
            "text/plain": [
              "                                                text  spam\n",
              "0  subject naturally irresistible corporate ident...     1\n",
              "1  subject stock trading gunslinger fanny merrill...     1\n",
              "2  subject unbelievable new homes made easy im wa...     1\n",
              "3  subject 4 color printing special request addit...     1\n",
              "4  subject money get software cds software compat...     1"
            ],
            "text/html": [
              "\n",
              "  <div id=\"df-18385bba-2449-438b-9cee-99d060423be4\">\n",
              "    <div class=\"colab-df-container\">\n",
              "      <div>\n",
              "<style scoped>\n",
              "    .dataframe tbody tr th:only-of-type {\n",
              "        vertical-align: middle;\n",
              "    }\n",
              "\n",
              "    .dataframe tbody tr th {\n",
              "        vertical-align: top;\n",
              "    }\n",
              "\n",
              "    .dataframe thead th {\n",
              "        text-align: right;\n",
              "    }\n",
              "</style>\n",
              "<table border=\"1\" class=\"dataframe\">\n",
              "  <thead>\n",
              "    <tr style=\"text-align: right;\">\n",
              "      <th></th>\n",
              "      <th>text</th>\n",
              "      <th>spam</th>\n",
              "    </tr>\n",
              "  </thead>\n",
              "  <tbody>\n",
              "    <tr>\n",
              "      <th>0</th>\n",
              "      <td>subject naturally irresistible corporate ident...</td>\n",
              "      <td>1</td>\n",
              "    </tr>\n",
              "    <tr>\n",
              "      <th>1</th>\n",
              "      <td>subject stock trading gunslinger fanny merrill...</td>\n",
              "      <td>1</td>\n",
              "    </tr>\n",
              "    <tr>\n",
              "      <th>2</th>\n",
              "      <td>subject unbelievable new homes made easy im wa...</td>\n",
              "      <td>1</td>\n",
              "    </tr>\n",
              "    <tr>\n",
              "      <th>3</th>\n",
              "      <td>subject 4 color printing special request addit...</td>\n",
              "      <td>1</td>\n",
              "    </tr>\n",
              "    <tr>\n",
              "      <th>4</th>\n",
              "      <td>subject money get software cds software compat...</td>\n",
              "      <td>1</td>\n",
              "    </tr>\n",
              "  </tbody>\n",
              "</table>\n",
              "</div>\n",
              "      <button class=\"colab-df-convert\" onclick=\"convertToInteractive('df-18385bba-2449-438b-9cee-99d060423be4')\"\n",
              "              title=\"Convert this dataframe to an interactive table.\"\n",
              "              style=\"display:none;\">\n",
              "        \n",
              "  <svg xmlns=\"http://www.w3.org/2000/svg\" height=\"24px\"viewBox=\"0 0 24 24\"\n",
              "       width=\"24px\">\n",
              "    <path d=\"M0 0h24v24H0V0z\" fill=\"none\"/>\n",
              "    <path d=\"M18.56 5.44l.94 2.06.94-2.06 2.06-.94-2.06-.94-.94-2.06-.94 2.06-2.06.94zm-11 1L8.5 8.5l.94-2.06 2.06-.94-2.06-.94L8.5 2.5l-.94 2.06-2.06.94zm10 10l.94 2.06.94-2.06 2.06-.94-2.06-.94-.94-2.06-.94 2.06-2.06.94z\"/><path d=\"M17.41 7.96l-1.37-1.37c-.4-.4-.92-.59-1.43-.59-.52 0-1.04.2-1.43.59L10.3 9.45l-7.72 7.72c-.78.78-.78 2.05 0 2.83L4 21.41c.39.39.9.59 1.41.59.51 0 1.02-.2 1.41-.59l7.78-7.78 2.81-2.81c.8-.78.8-2.07 0-2.86zM5.41 20L4 18.59l7.72-7.72 1.47 1.35L5.41 20z\"/>\n",
              "  </svg>\n",
              "      </button>\n",
              "      \n",
              "  <style>\n",
              "    .colab-df-container {\n",
              "      display:flex;\n",
              "      flex-wrap:wrap;\n",
              "      gap: 12px;\n",
              "    }\n",
              "\n",
              "    .colab-df-convert {\n",
              "      background-color: #E8F0FE;\n",
              "      border: none;\n",
              "      border-radius: 50%;\n",
              "      cursor: pointer;\n",
              "      display: none;\n",
              "      fill: #1967D2;\n",
              "      height: 32px;\n",
              "      padding: 0 0 0 0;\n",
              "      width: 32px;\n",
              "    }\n",
              "\n",
              "    .colab-df-convert:hover {\n",
              "      background-color: #E2EBFA;\n",
              "      box-shadow: 0px 1px 2px rgba(60, 64, 67, 0.3), 0px 1px 3px 1px rgba(60, 64, 67, 0.15);\n",
              "      fill: #174EA6;\n",
              "    }\n",
              "\n",
              "    [theme=dark] .colab-df-convert {\n",
              "      background-color: #3B4455;\n",
              "      fill: #D2E3FC;\n",
              "    }\n",
              "\n",
              "    [theme=dark] .colab-df-convert:hover {\n",
              "      background-color: #434B5C;\n",
              "      box-shadow: 0px 1px 3px 1px rgba(0, 0, 0, 0.15);\n",
              "      filter: drop-shadow(0px 1px 2px rgba(0, 0, 0, 0.3));\n",
              "      fill: #FFFFFF;\n",
              "    }\n",
              "  </style>\n",
              "\n",
              "      <script>\n",
              "        const buttonEl =\n",
              "          document.querySelector('#df-18385bba-2449-438b-9cee-99d060423be4 button.colab-df-convert');\n",
              "        buttonEl.style.display =\n",
              "          google.colab.kernel.accessAllowed ? 'block' : 'none';\n",
              "\n",
              "        async function convertToInteractive(key) {\n",
              "          const element = document.querySelector('#df-18385bba-2449-438b-9cee-99d060423be4');\n",
              "          const dataTable =\n",
              "            await google.colab.kernel.invokeFunction('convertToInteractive',\n",
              "                                                     [key], {});\n",
              "          if (!dataTable) return;\n",
              "\n",
              "          const docLinkHtml = 'Like what you see? Visit the ' +\n",
              "            '<a target=\"_blank\" href=https://colab.research.google.com/notebooks/data_table.ipynb>data table notebook</a>'\n",
              "            + ' to learn more about interactive tables.';\n",
              "          element.innerHTML = '';\n",
              "          dataTable['output_type'] = 'display_data';\n",
              "          await google.colab.output.renderOutput(dataTable, element);\n",
              "          const docLink = document.createElement('div');\n",
              "          docLink.innerHTML = docLinkHtml;\n",
              "          element.appendChild(docLink);\n",
              "        }\n",
              "      </script>\n",
              "    </div>\n",
              "  </div>\n",
              "  "
            ]
          },
          "metadata": {},
          "execution_count": 28
        }
      ]
    },
    {
      "cell_type": "markdown",
      "source": [
        "Stemming the corpus:\n",
        "which is reducing a word to its dictionary root"
      ],
      "metadata": {
        "id": "xVlSTGAa8Kiu"
      }
    },
    {
      "cell_type": "code",
      "source": [
        "from nltk.stem import PorterStemmer\n",
        "ps = PorterStemmer()"
      ],
      "metadata": {
        "id": "aZnctRVY7h-T"
      },
      "execution_count": 32,
      "outputs": []
    },
    {
      "cell_type": "code",
      "source": [
        "def stem_words_in_sentence(sentence):\n",
        "    modified_sentence = ' '.join([ps.stem(word) for word in sentence.split()])\n",
        "    return modified_sentence\n",
        "\n",
        "corpus['text'] = corpus['text'].apply(stem_words_in_sentence)\n",
        "corpus.head()"
      ],
      "metadata": {
        "colab": {
          "base_uri": "https://localhost:8080/",
          "height": 206
        },
        "id": "4x6QsXrh8UPj",
        "outputId": "835c4398-e42c-4238-f396-54f00d4e3c03"
      },
      "execution_count": 33,
      "outputs": [
        {
          "output_type": "execute_result",
          "data": {
            "text/plain": [
              "                                                text  spam\n",
              "0  subject natur irresist corpor ident lt realli ...     1\n",
              "1  subject stock trade gunsling fanni merril muzo...     1\n",
              "2  subject unbeliev new home made easi im want sh...     1\n",
              "3  subject 4 color print special request addit in...     1\n",
              "4  subject money get softwar cd softwar compat gr...     1"
            ],
            "text/html": [
              "\n",
              "  <div id=\"df-a0555d5c-4f32-4d1a-b604-a0eaa64ed83e\">\n",
              "    <div class=\"colab-df-container\">\n",
              "      <div>\n",
              "<style scoped>\n",
              "    .dataframe tbody tr th:only-of-type {\n",
              "        vertical-align: middle;\n",
              "    }\n",
              "\n",
              "    .dataframe tbody tr th {\n",
              "        vertical-align: top;\n",
              "    }\n",
              "\n",
              "    .dataframe thead th {\n",
              "        text-align: right;\n",
              "    }\n",
              "</style>\n",
              "<table border=\"1\" class=\"dataframe\">\n",
              "  <thead>\n",
              "    <tr style=\"text-align: right;\">\n",
              "      <th></th>\n",
              "      <th>text</th>\n",
              "      <th>spam</th>\n",
              "    </tr>\n",
              "  </thead>\n",
              "  <tbody>\n",
              "    <tr>\n",
              "      <th>0</th>\n",
              "      <td>subject natur irresist corpor ident lt realli ...</td>\n",
              "      <td>1</td>\n",
              "    </tr>\n",
              "    <tr>\n",
              "      <th>1</th>\n",
              "      <td>subject stock trade gunsling fanni merril muzo...</td>\n",
              "      <td>1</td>\n",
              "    </tr>\n",
              "    <tr>\n",
              "      <th>2</th>\n",
              "      <td>subject unbeliev new home made easi im want sh...</td>\n",
              "      <td>1</td>\n",
              "    </tr>\n",
              "    <tr>\n",
              "      <th>3</th>\n",
              "      <td>subject 4 color print special request addit in...</td>\n",
              "      <td>1</td>\n",
              "    </tr>\n",
              "    <tr>\n",
              "      <th>4</th>\n",
              "      <td>subject money get softwar cd softwar compat gr...</td>\n",
              "      <td>1</td>\n",
              "    </tr>\n",
              "  </tbody>\n",
              "</table>\n",
              "</div>\n",
              "      <button class=\"colab-df-convert\" onclick=\"convertToInteractive('df-a0555d5c-4f32-4d1a-b604-a0eaa64ed83e')\"\n",
              "              title=\"Convert this dataframe to an interactive table.\"\n",
              "              style=\"display:none;\">\n",
              "        \n",
              "  <svg xmlns=\"http://www.w3.org/2000/svg\" height=\"24px\"viewBox=\"0 0 24 24\"\n",
              "       width=\"24px\">\n",
              "    <path d=\"M0 0h24v24H0V0z\" fill=\"none\"/>\n",
              "    <path d=\"M18.56 5.44l.94 2.06.94-2.06 2.06-.94-2.06-.94-.94-2.06-.94 2.06-2.06.94zm-11 1L8.5 8.5l.94-2.06 2.06-.94-2.06-.94L8.5 2.5l-.94 2.06-2.06.94zm10 10l.94 2.06.94-2.06 2.06-.94-2.06-.94-.94-2.06-.94 2.06-2.06.94z\"/><path d=\"M17.41 7.96l-1.37-1.37c-.4-.4-.92-.59-1.43-.59-.52 0-1.04.2-1.43.59L10.3 9.45l-7.72 7.72c-.78.78-.78 2.05 0 2.83L4 21.41c.39.39.9.59 1.41.59.51 0 1.02-.2 1.41-.59l7.78-7.78 2.81-2.81c.8-.78.8-2.07 0-2.86zM5.41 20L4 18.59l7.72-7.72 1.47 1.35L5.41 20z\"/>\n",
              "  </svg>\n",
              "      </button>\n",
              "      \n",
              "  <style>\n",
              "    .colab-df-container {\n",
              "      display:flex;\n",
              "      flex-wrap:wrap;\n",
              "      gap: 12px;\n",
              "    }\n",
              "\n",
              "    .colab-df-convert {\n",
              "      background-color: #E8F0FE;\n",
              "      border: none;\n",
              "      border-radius: 50%;\n",
              "      cursor: pointer;\n",
              "      display: none;\n",
              "      fill: #1967D2;\n",
              "      height: 32px;\n",
              "      padding: 0 0 0 0;\n",
              "      width: 32px;\n",
              "    }\n",
              "\n",
              "    .colab-df-convert:hover {\n",
              "      background-color: #E2EBFA;\n",
              "      box-shadow: 0px 1px 2px rgba(60, 64, 67, 0.3), 0px 1px 3px 1px rgba(60, 64, 67, 0.15);\n",
              "      fill: #174EA6;\n",
              "    }\n",
              "\n",
              "    [theme=dark] .colab-df-convert {\n",
              "      background-color: #3B4455;\n",
              "      fill: #D2E3FC;\n",
              "    }\n",
              "\n",
              "    [theme=dark] .colab-df-convert:hover {\n",
              "      background-color: #434B5C;\n",
              "      box-shadow: 0px 1px 3px 1px rgba(0, 0, 0, 0.15);\n",
              "      filter: drop-shadow(0px 1px 2px rgba(0, 0, 0, 0.3));\n",
              "      fill: #FFFFFF;\n",
              "    }\n",
              "  </style>\n",
              "\n",
              "      <script>\n",
              "        const buttonEl =\n",
              "          document.querySelector('#df-a0555d5c-4f32-4d1a-b604-a0eaa64ed83e button.colab-df-convert');\n",
              "        buttonEl.style.display =\n",
              "          google.colab.kernel.accessAllowed ? 'block' : 'none';\n",
              "\n",
              "        async function convertToInteractive(key) {\n",
              "          const element = document.querySelector('#df-a0555d5c-4f32-4d1a-b604-a0eaa64ed83e');\n",
              "          const dataTable =\n",
              "            await google.colab.kernel.invokeFunction('convertToInteractive',\n",
              "                                                     [key], {});\n",
              "          if (!dataTable) return;\n",
              "\n",
              "          const docLinkHtml = 'Like what you see? Visit the ' +\n",
              "            '<a target=\"_blank\" href=https://colab.research.google.com/notebooks/data_table.ipynb>data table notebook</a>'\n",
              "            + ' to learn more about interactive tables.';\n",
              "          element.innerHTML = '';\n",
              "          dataTable['output_type'] = 'display_data';\n",
              "          await google.colab.output.renderOutput(dataTable, element);\n",
              "          const docLink = document.createElement('div');\n",
              "          docLink.innerHTML = docLinkHtml;\n",
              "          element.appendChild(docLink);\n",
              "        }\n",
              "      </script>\n",
              "    </div>\n",
              "  </div>\n",
              "  "
            ]
          },
          "metadata": {},
          "execution_count": 33
        }
      ]
    },
    {
      "cell_type": "code",
      "source": [
        "# Build a document term matrix from the corpus, called dtm\n",
        "from sklearn.feature_extraction.text import CountVectorizer\n",
        "vec = CountVectorizer()\n",
        "dtm  = vec.fit_transform(corpus['text'])"
      ],
      "metadata": {
        "id": "s0uCYhG98X0I"
      },
      "execution_count": 37,
      "outputs": []
    },
    {
      "cell_type": "code",
      "source": [
        "dtm.shape"
      ],
      "metadata": {
        "colab": {
          "base_uri": "https://localhost:8080/"
        },
        "id": "Dd2tA0Xu8qK2",
        "outputId": "85ad5abf-a5d8-496c-ee9b-99878bd08a00"
      },
      "execution_count": 38,
      "outputs": [
        {
          "output_type": "execute_result",
          "data": {
            "text/plain": [
              "(5695, 29222)"
            ]
          },
          "metadata": {},
          "execution_count": 38
        }
      ]
    },
    {
      "cell_type": "code",
      "source": [
        "# How many terms are in dtm? To obtain a more reasonable number of terms, \n",
        "# limit dtm to contain terms appearing in at least 5% of documents, \n",
        "# and store this result as spdtm (don't overwrite dtm, because we will use it in \n",
        "# a later step of this homework).\n",
        "print(f'No of terms in the document term matrix is {dtm.shape[1]}')\n",
        "\n",
        "five_percent_vectorizer = CountVectorizer(min_df = 0.05)\n",
        "five_percent_document_term_matrix = five_percent_vectorizer.fit_transform(corpus['text'])\n",
        "\n",
        "print(f'No of terms in the the five percent document term matrix is {five_percent_document_term_matrix.shape[1]}')"
      ],
      "metadata": {
        "colab": {
          "base_uri": "https://localhost:8080/"
        },
        "id": "oSWcBppy8vyA",
        "outputId": "cb2509e5-7b2b-4f16-890c-8738beaf6d9a"
      },
      "execution_count": 40,
      "outputs": [
        {
          "output_type": "stream",
          "name": "stdout",
          "text": [
            "No of terms in the document term matrix is 29222\n",
            "No of terms in the the five percent document term matrix is 368\n"
          ]
        }
      ]
    },
    {
      "cell_type": "code",
      "source": [
        "SEED = 123\n",
        "np.random.seed(SEED)"
      ],
      "metadata": {
        "id": "vondF21785L7"
      },
      "execution_count": 41,
      "outputs": []
    },
    {
      "cell_type": "code",
      "source": [
        "# creating the train and test data from document term matrix by splitting the train and test in the ratio 70:30\n",
        "from sklearn.model_selection import train_test_split\n",
        "X_train, X_test, y_train, y_test = train_test_split(dtm, corpus['spam'], test_size=0.3, random_state=SEED)"
      ],
      "metadata": {
        "id": "vDmD-3lL9NMG"
      },
      "execution_count": 42,
      "outputs": []
    },
    {
      "cell_type": "markdown",
      "source": [
        "Implementing the CART Model"
      ],
      "metadata": {
        "id": "X5d0wfMi9oob"
      }
    },
    {
      "cell_type": "code",
      "source": [
        "from sklearn import tree\n",
        "clf = tree.DecisionTreeClassifier()\n",
        "clf.fit(X_train, y_train)"
      ],
      "metadata": {
        "colab": {
          "base_uri": "https://localhost:8080/"
        },
        "id": "dL9z0OJC9PL3",
        "outputId": "e484995c-e1a5-4c95-9582-f0108187596a"
      },
      "execution_count": 43,
      "outputs": [
        {
          "output_type": "execute_result",
          "data": {
            "text/plain": [
              "DecisionTreeClassifier()"
            ]
          },
          "metadata": {},
          "execution_count": 43
        }
      ]
    },
    {
      "cell_type": "code",
      "source": [
        "# What is the training set accuracy of spamCART, using a threshold of 0.5 for predictions?\n",
        "\n",
        "# finding the training data accuracy of the model\n",
        "from sklearn.metrics import accuracy_score\n",
        "print(accuracy_score(clf.predict(X_test), y_test))"
      ],
      "metadata": {
        "colab": {
          "base_uri": "https://localhost:8080/"
        },
        "id": "IXYltHPx9qhO",
        "outputId": "844eafc7-746b-4d04-c9b2-209183a6597f"
      },
      "execution_count": 44,
      "outputs": [
        {
          "output_type": "stream",
          "name": "stdout",
          "text": [
            "0.9566998244587478\n"
          ]
        }
      ]
    },
    {
      "cell_type": "code",
      "source": [
        "# plotting the confusion matrix\n",
        "from sklearn.metrics import confusion_matrix\n",
        "print(confusion_matrix(clf.predict(X_test), y_test))"
      ],
      "metadata": {
        "colab": {
          "base_uri": "https://localhost:8080/"
        },
        "id": "n4Ulmqvv9zmq",
        "outputId": "0a29996c-186a-42d7-a4e8-1897397f67d1"
      },
      "execution_count": 45,
      "outputs": [
        {
          "output_type": "stream",
          "name": "stdout",
          "text": [
            "[[1267   32]\n",
            " [  42  368]]\n"
          ]
        }
      ]
    },
    {
      "cell_type": "code",
      "source": [
        "# printing a more detailed analysis of the CART model \n",
        "from sklearn.metrics import classification_report\n",
        "print(classification_report(clf.predict(X_test), y_test))"
      ],
      "metadata": {
        "colab": {
          "base_uri": "https://localhost:8080/"
        },
        "id": "2abzSGnr92NA",
        "outputId": "d75ca0ba-c797-4e4e-99fe-672b86c0e991"
      },
      "execution_count": 46,
      "outputs": [
        {
          "output_type": "stream",
          "name": "stdout",
          "text": [
            "              precision    recall  f1-score   support\n",
            "\n",
            "           0       0.97      0.98      0.97      1299\n",
            "           1       0.92      0.90      0.91       410\n",
            "\n",
            "    accuracy                           0.96      1709\n",
            "   macro avg       0.94      0.94      0.94      1709\n",
            "weighted avg       0.96      0.96      0.96      1709\n",
            "\n"
          ]
        }
      ]
    },
    {
      "cell_type": "code",
      "source": [
        "# What is the training set AUC of spamCART?\n",
        "from sklearn.metrics import roc_auc_score\n",
        "print(roc_auc_score(clf.predict(X_test), y_test))"
      ],
      "metadata": {
        "colab": {
          "base_uri": "https://localhost:8080/"
        },
        "id": "sKX3vDAi94V-",
        "outputId": "4a311020-30a9-4885-9e98-ba8a19a01f8f"
      },
      "execution_count": 47,
      "outputs": [
        {
          "output_type": "stream",
          "name": "stdout",
          "text": [
            "0.9364633207532999\n"
          ]
        }
      ]
    },
    {
      "cell_type": "markdown",
      "source": [
        "Implementing the RANDOM FOREST Model"
      ],
      "metadata": {
        "id": "W7YQF0Vy-DWO"
      }
    },
    {
      "cell_type": "code",
      "source": [
        "from sklearn.ensemble import RandomForestClassifier\n",
        "random_forest_classifier = RandomForestClassifier()\n",
        "random_forest_classifier.fit(X_train, y_train)"
      ],
      "metadata": {
        "colab": {
          "base_uri": "https://localhost:8080/"
        },
        "id": "z7AotnA5-ALR",
        "outputId": "22b7da9f-e973-44fc-aac8-f01fdd83bfd7"
      },
      "execution_count": 48,
      "outputs": [
        {
          "output_type": "execute_result",
          "data": {
            "text/plain": [
              "RandomForestClassifier()"
            ]
          },
          "metadata": {},
          "execution_count": 48
        }
      ]
    },
    {
      "cell_type": "code",
      "source": [
        "# What is the training set accuracy of spamRF, using a threshold of 0.5 for predictions?\n",
        "\n",
        "# finding the training data accuracy of the model\n",
        "from sklearn.metrics import accuracy_score\n",
        "print(accuracy_score(random_forest_classifier.predict(X_test), y_test))"
      ],
      "metadata": {
        "colab": {
          "base_uri": "https://localhost:8080/"
        },
        "id": "ZPCGdWUG-FMU",
        "outputId": "245e1945-4da7-4fda-d569-0ae279a12d55"
      },
      "execution_count": 49,
      "outputs": [
        {
          "output_type": "stream",
          "name": "stdout",
          "text": [
            "0.9806904622586308\n"
          ]
        }
      ]
    },
    {
      "cell_type": "code",
      "source": [
        "# plotting the confusion matrix\n",
        "from sklearn.metrics import confusion_matrix\n",
        "print(confusion_matrix(random_forest_classifier.predict(X_test), y_test))"
      ],
      "metadata": {
        "colab": {
          "base_uri": "https://localhost:8080/"
        },
        "id": "7x_EEQ4xMc_I",
        "outputId": "61d4b234-3d55-4142-f1a1-e9b62bfecc18"
      },
      "execution_count": 50,
      "outputs": [
        {
          "output_type": "stream",
          "name": "stdout",
          "text": [
            "[[1304   28]\n",
            " [   5  372]]\n"
          ]
        }
      ]
    },
    {
      "cell_type": "code",
      "source": [
        "# printing a more detailed analysis of the rf model \n",
        "from sklearn.metrics import classification_report\n",
        "print(classification_report(random_forest_classifier.predict(X_test), y_test))"
      ],
      "metadata": {
        "colab": {
          "base_uri": "https://localhost:8080/"
        },
        "id": "0Gj8ldPuMfUE",
        "outputId": "5994a4e3-4fcb-425f-b156-ca3c365437c5"
      },
      "execution_count": 51,
      "outputs": [
        {
          "output_type": "stream",
          "name": "stdout",
          "text": [
            "              precision    recall  f1-score   support\n",
            "\n",
            "           0       1.00      0.98      0.99      1332\n",
            "           1       0.93      0.99      0.96       377\n",
            "\n",
            "    accuracy                           0.98      1709\n",
            "   macro avg       0.96      0.98      0.97      1709\n",
            "weighted avg       0.98      0.98      0.98      1709\n",
            "\n"
          ]
        }
      ]
    },
    {
      "cell_type": "code",
      "source": [
        "# What is the training set AUC of spamRF?\n",
        "from sklearn.metrics import roc_auc_score\n",
        "print(roc_auc_score(random_forest_classifier.predict(X_test), y_test))"
      ],
      "metadata": {
        "colab": {
          "base_uri": "https://localhost:8080/"
        },
        "id": "0K0SAnjKMhRf",
        "outputId": "9f315527-06af-4c39-8652-075ad8c04c37"
      },
      "execution_count": 52,
      "outputs": [
        {
          "output_type": "stream",
          "name": "stdout",
          "text": [
            "0.9828581897547416\n"
          ]
        }
      ]
    },
    {
      "cell_type": "markdown",
      "source": [
        "Looking closely we can infer that the precision and recall score are very good compared to the CART Model, we have a precision value of 1 or 100% which shows that all positive samples are classified as positive, and there is not any Negative sample that is incorrectly classified."
      ],
      "metadata": {
        "id": "TiJ1yX-fMuD5"
      }
    },
    {
      "cell_type": "code",
      "source": [],
      "metadata": {
        "id": "4KnAo4tgM5LO"
      },
      "execution_count": null,
      "outputs": []
    }
  ]
}